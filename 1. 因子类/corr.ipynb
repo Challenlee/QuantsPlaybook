{
 "cells": [
  {
   "cell_type": "code",
   "execution_count": 1,
   "id": "304744aa",
   "metadata": {},
   "outputs": [],
   "source": [
    "import polars as pl\n",
    "import pandas as pd\n",
    "import numpy as np\n",
    "import os\n",
    "from pathlib import Path\n",
    "\n",
    "import matplotlib.pyplot as plt\n",
    "import seaborn as sns\n"
   ]
  },
  {
   "cell_type": "code",
   "execution_count": 2,
   "id": "ea39fd6b",
   "metadata": {},
   "outputs": [
    {
     "data": {
      "text/html": [
       "<div><style>\n",
       ".dataframe > thead > tr,\n",
       ".dataframe > tbody > tr {\n",
       "  text-align: right;\n",
       "  white-space: pre-wrap;\n",
       "}\n",
       "</style>\n",
       "<small>shape: (7_330_574, 3)</small><table border=\"1\" class=\"dataframe\"><thead><tr><th>date</th><th>code</th><th>factor_3</th></tr><tr><td>str</td><td>str</td><td>f64</td></tr></thead><tbody><tr><td>&quot;2014-01-02&quot;</td><td>&quot;000001.SZ&quot;</td><td>null</td></tr><tr><td>&quot;2014-01-03&quot;</td><td>&quot;000001.SZ&quot;</td><td>null</td></tr><tr><td>&quot;2014-01-06&quot;</td><td>&quot;000001.SZ&quot;</td><td>null</td></tr><tr><td>&quot;2014-01-07&quot;</td><td>&quot;000001.SZ&quot;</td><td>null</td></tr><tr><td>&quot;2014-01-08&quot;</td><td>&quot;000001.SZ&quot;</td><td>null</td></tr><tr><td>&hellip;</td><td>&hellip;</td><td>&hellip;</td></tr><tr><td>&quot;2024-01-23&quot;</td><td>&quot;688789.SH&quot;</td><td>-1.846037</td></tr><tr><td>&quot;2024-01-24&quot;</td><td>&quot;688789.SH&quot;</td><td>-1.690756</td></tr><tr><td>&quot;2024-01-25&quot;</td><td>&quot;688789.SH&quot;</td><td>-2.248169</td></tr><tr><td>&quot;2024-01-26&quot;</td><td>&quot;688789.SH&quot;</td><td>-0.720085</td></tr><tr><td>&quot;2024-01-29&quot;</td><td>&quot;688789.SH&quot;</td><td>-1.934408</td></tr></tbody></table></div>"
      ],
      "text/plain": [
       "shape: (7_330_574, 3)\n",
       "┌────────────┬───────────┬───────────┐\n",
       "│ date       ┆ code      ┆ factor_3  │\n",
       "│ ---        ┆ ---       ┆ ---       │\n",
       "│ str        ┆ str       ┆ f64       │\n",
       "╞════════════╪═══════════╪═══════════╡\n",
       "│ 2014-01-02 ┆ 000001.SZ ┆ null      │\n",
       "│ 2014-01-03 ┆ 000001.SZ ┆ null      │\n",
       "│ 2014-01-06 ┆ 000001.SZ ┆ null      │\n",
       "│ 2014-01-07 ┆ 000001.SZ ┆ null      │\n",
       "│ 2014-01-08 ┆ 000001.SZ ┆ null      │\n",
       "│ …          ┆ …         ┆ …         │\n",
       "│ 2024-01-23 ┆ 688789.SH ┆ -1.846037 │\n",
       "│ 2024-01-24 ┆ 688789.SH ┆ -1.690756 │\n",
       "│ 2024-01-25 ┆ 688789.SH ┆ -2.248169 │\n",
       "│ 2024-01-26 ┆ 688789.SH ┆ -0.720085 │\n",
       "│ 2024-01-29 ┆ 688789.SH ┆ -1.934408 │\n",
       "└────────────┴───────────┴───────────┘"
      ]
     },
     "execution_count": 2,
     "metadata": {},
     "output_type": "execute_result"
    }
   ],
   "source": [
    "factor1 = pl.read_csv(r'1. 【国盛金工】“量价淘金”选股因子系列研究（五）：基于趋势资金日内交易行为的选股因子\\trend_support_volume_factor\\trend_support_volume_factor.csv')\n",
    "factor1"
   ]
  },
  {
   "cell_type": "code",
   "execution_count": 3,
   "id": "803de6de",
   "metadata": {},
   "outputs": [
    {
     "data": {
      "text/html": [
       "<div><style>\n",
       ".dataframe > thead > tr,\n",
       ".dataframe > tbody > tr {\n",
       "  text-align: right;\n",
       "  white-space: pre-wrap;\n",
       "}\n",
       "</style>\n",
       "<small>shape: (8_744_502, 5)</small><table border=\"1\" class=\"dataframe\"><thead><tr><th>code</th><th>date</th><th>monthly_mean</th><th>monthly_std</th><th>factor</th></tr><tr><td>str</td><td>str</td><td>f64</td><td>f64</td><td>f64</td></tr></thead><tbody><tr><td>&quot;000001.SZ&quot;</td><td>&quot;2014-01-02&quot;</td><td>null</td><td>null</td><td>null</td></tr><tr><td>&quot;000001.SZ&quot;</td><td>&quot;2014-01-03&quot;</td><td>null</td><td>null</td><td>null</td></tr><tr><td>&quot;000001.SZ&quot;</td><td>&quot;2014-01-06&quot;</td><td>null</td><td>null</td><td>null</td></tr><tr><td>&quot;000001.SZ&quot;</td><td>&quot;2014-01-07&quot;</td><td>null</td><td>null</td><td>null</td></tr><tr><td>&quot;000001.SZ&quot;</td><td>&quot;2014-01-08&quot;</td><td>null</td><td>null</td><td>null</td></tr><tr><td>&hellip;</td><td>&hellip;</td><td>&hellip;</td><td>&hellip;</td><td>&hellip;</td></tr><tr><td>&quot;873527.NE&quot;</td><td>&quot;2022-12-09&quot;</td><td>null</td><td>null</td><td>null</td></tr><tr><td>&quot;873527.NE&quot;</td><td>&quot;2022-12-12&quot;</td><td>null</td><td>null</td><td>null</td></tr><tr><td>&quot;873527.NE&quot;</td><td>&quot;2022-12-13&quot;</td><td>null</td><td>null</td><td>null</td></tr><tr><td>&quot;873527.NE&quot;</td><td>&quot;2022-12-14&quot;</td><td>null</td><td>null</td><td>null</td></tr><tr><td>&quot;873527.NE&quot;</td><td>&quot;2022-12-15&quot;</td><td>null</td><td>null</td><td>null</td></tr></tbody></table></div>"
      ],
      "text/plain": [
       "shape: (8_744_502, 5)\n",
       "┌───────────┬────────────┬──────────────┬─────────────┬────────┐\n",
       "│ code      ┆ date       ┆ monthly_mean ┆ monthly_std ┆ factor │\n",
       "│ ---       ┆ ---        ┆ ---          ┆ ---         ┆ ---    │\n",
       "│ str       ┆ str        ┆ f64          ┆ f64         ┆ f64    │\n",
       "╞═══════════╪════════════╪══════════════╪═════════════╪════════╡\n",
       "│ 000001.SZ ┆ 2014-01-02 ┆ null         ┆ null        ┆ null   │\n",
       "│ 000001.SZ ┆ 2014-01-03 ┆ null         ┆ null        ┆ null   │\n",
       "│ 000001.SZ ┆ 2014-01-06 ┆ null         ┆ null        ┆ null   │\n",
       "│ 000001.SZ ┆ 2014-01-07 ┆ null         ┆ null        ┆ null   │\n",
       "│ 000001.SZ ┆ 2014-01-08 ┆ null         ┆ null        ┆ null   │\n",
       "│ …         ┆ …          ┆ …            ┆ …           ┆ …      │\n",
       "│ 873527.NE ┆ 2022-12-09 ┆ null         ┆ null        ┆ null   │\n",
       "│ 873527.NE ┆ 2022-12-12 ┆ null         ┆ null        ┆ null   │\n",
       "│ 873527.NE ┆ 2022-12-13 ┆ null         ┆ null        ┆ null   │\n",
       "│ 873527.NE ┆ 2022-12-14 ┆ null         ┆ null        ┆ null   │\n",
       "│ 873527.NE ┆ 2022-12-15 ┆ null         ┆ null        ┆ null   │\n",
       "└───────────┴────────────┴──────────────┴─────────────┴────────┘"
      ]
     },
     "execution_count": 3,
     "metadata": {},
     "output_type": "execute_result"
    }
   ],
   "source": [
    "factor2 = pl.read_csv(r'2. 【方正金工】日内协同股票性价比度量与“协同效应”因子构建\\monthly_synergy_diff_factors\\new_monthly_synergy_diff_factors.csv')\n",
    "factor2"
   ]
  },
  {
   "cell_type": "code",
   "execution_count": 4,
   "id": "18be2564",
   "metadata": {},
   "outputs": [
    {
     "data": {
      "text/html": [
       "<div><style>\n",
       ".dataframe > thead > tr,\n",
       ".dataframe > tbody > tr {\n",
       "  text-align: right;\n",
       "  white-space: pre-wrap;\n",
       "}\n",
       "</style>\n",
       "<small>shape: (12_019_239, 3)</small><table border=\"1\" class=\"dataframe\"><thead><tr><th>date</th><th>code</th><th>factor</th></tr><tr><td>str</td><td>str</td><td>f64</td></tr></thead><tbody><tr><td>&quot;2010-02-04&quot;</td><td>&quot;601898.SH&quot;</td><td>-0.001941</td></tr><tr><td>&quot;2010-02-04&quot;</td><td>&quot;600062.SH&quot;</td><td>-0.092861</td></tr><tr><td>&quot;2010-02-04&quot;</td><td>&quot;002240.SZ&quot;</td><td>-0.009548</td></tr><tr><td>&quot;2010-02-04&quot;</td><td>&quot;000915.SZ&quot;</td><td>0.154332</td></tr><tr><td>&quot;2010-02-04&quot;</td><td>&quot;002097.SZ&quot;</td><td>-0.052391</td></tr><tr><td>&hellip;</td><td>&hellip;</td><td>&hellip;</td></tr><tr><td>&quot;2025-02-13&quot;</td><td>&quot;000930.SZ&quot;</td><td>0.801951</td></tr><tr><td>&quot;2025-02-13&quot;</td><td>&quot;000932.SZ&quot;</td><td>0.192654</td></tr><tr><td>&quot;2025-02-13&quot;</td><td>&quot;600735.SH&quot;</td><td>-0.167147</td></tr><tr><td>&quot;2025-02-13&quot;</td><td>&quot;600199.SH&quot;</td><td>0.418484</td></tr><tr><td>&quot;2025-02-13&quot;</td><td>&quot;600589.SH&quot;</td><td>-0.207376</td></tr></tbody></table></div>"
      ],
      "text/plain": [
       "shape: (12_019_239, 3)\n",
       "┌────────────┬───────────┬───────────┐\n",
       "│ date       ┆ code      ┆ factor    │\n",
       "│ ---        ┆ ---       ┆ ---       │\n",
       "│ str        ┆ str       ┆ f64       │\n",
       "╞════════════╪═══════════╪═══════════╡\n",
       "│ 2010-02-04 ┆ 601898.SH ┆ -0.001941 │\n",
       "│ 2010-02-04 ┆ 600062.SH ┆ -0.092861 │\n",
       "│ 2010-02-04 ┆ 002240.SZ ┆ -0.009548 │\n",
       "│ 2010-02-04 ┆ 000915.SZ ┆ 0.154332  │\n",
       "│ 2010-02-04 ┆ 002097.SZ ┆ -0.052391 │\n",
       "│ …          ┆ …         ┆ …         │\n",
       "│ 2025-02-13 ┆ 000930.SZ ┆ 0.801951  │\n",
       "│ 2025-02-13 ┆ 000932.SZ ┆ 0.192654  │\n",
       "│ 2025-02-13 ┆ 600735.SH ┆ -0.167147 │\n",
       "│ 2025-02-13 ┆ 600199.SH ┆ 0.418484  │\n",
       "│ 2025-02-13 ┆ 600589.SH ┆ -0.207376 │\n",
       "└────────────┴───────────┴───────────┘"
      ]
     },
     "execution_count": 4,
     "metadata": {},
     "output_type": "execute_result"
    }
   ],
   "source": [
    "factor3 = pl.read_csv(r'3. 【国盛金工】量化专题：K线形态信息中的Alpha\\csp_com\\csp_composite.csv')\n",
    "factor3"
   ]
  },
  {
   "cell_type": "code",
   "execution_count": 5,
   "id": "394b4027",
   "metadata": {},
   "outputs": [
    {
     "data": {
      "text/html": [
       "<div><style>\n",
       ".dataframe > thead > tr,\n",
       ".dataframe > tbody > tr {\n",
       "  text-align: right;\n",
       "  white-space: pre-wrap;\n",
       "}\n",
       "</style>\n",
       "<small>shape: (7_302_219, 5)</small><table border=\"1\" class=\"dataframe\"><thead><tr><th>date</th><th>code</th><th>factor_3</th><th>factor</th><th>factor_right</th></tr><tr><td>str</td><td>str</td><td>f64</td><td>f64</td><td>f64</td></tr></thead><tbody><tr><td>&quot;2014-01-02&quot;</td><td>&quot;000971.SZ&quot;</td><td>null</td><td>null</td><td>1.657462</td></tr><tr><td>&quot;2014-01-02&quot;</td><td>&quot;300281.SZ&quot;</td><td>null</td><td>null</td><td>1.200004</td></tr><tr><td>&quot;2014-01-02&quot;</td><td>&quot;601688.SH&quot;</td><td>null</td><td>null</td><td>1.612675</td></tr><tr><td>&quot;2014-01-02&quot;</td><td>&quot;002145.SZ&quot;</td><td>null</td><td>null</td><td>1.483964</td></tr><tr><td>&quot;2014-01-02&quot;</td><td>&quot;300336.SZ&quot;</td><td>null</td><td>null</td><td>1.080644</td></tr><tr><td>&hellip;</td><td>&hellip;</td><td>&hellip;</td><td>&hellip;</td><td>&hellip;</td></tr><tr><td>&quot;2024-01-29&quot;</td><td>&quot;600135.SH&quot;</td><td>-2.630456</td><td>0.004604</td><td>0.328427</td></tr><tr><td>&quot;2024-01-29&quot;</td><td>&quot;300094.SZ&quot;</td><td>-15.930723</td><td>0.012919</td><td>0.423053</td></tr><tr><td>&quot;2024-01-29&quot;</td><td>&quot;002578.SZ&quot;</td><td>34.80902</td><td>0.014549</td><td>-0.123171</td></tr><tr><td>&quot;2024-01-29&quot;</td><td>&quot;002207.SZ&quot;</td><td>-5.176053</td><td>0.009451</td><td>0.411038</td></tr><tr><td>&quot;2024-01-29&quot;</td><td>&quot;300271.SZ&quot;</td><td>2.617026</td><td>0.004489</td><td>0.089317</td></tr></tbody></table></div>"
      ],
      "text/plain": [
       "shape: (7_302_219, 5)\n",
       "┌────────────┬───────────┬────────────┬──────────┬──────────────┐\n",
       "│ date       ┆ code      ┆ factor_3   ┆ factor   ┆ factor_right │\n",
       "│ ---        ┆ ---       ┆ ---        ┆ ---      ┆ ---          │\n",
       "│ str        ┆ str       ┆ f64        ┆ f64      ┆ f64          │\n",
       "╞════════════╪═══════════╪════════════╪══════════╪══════════════╡\n",
       "│ 2014-01-02 ┆ 000971.SZ ┆ null       ┆ null     ┆ 1.657462     │\n",
       "│ 2014-01-02 ┆ 300281.SZ ┆ null       ┆ null     ┆ 1.200004     │\n",
       "│ 2014-01-02 ┆ 601688.SH ┆ null       ┆ null     ┆ 1.612675     │\n",
       "│ 2014-01-02 ┆ 002145.SZ ┆ null       ┆ null     ┆ 1.483964     │\n",
       "│ 2014-01-02 ┆ 300336.SZ ┆ null       ┆ null     ┆ 1.080644     │\n",
       "│ …          ┆ …         ┆ …          ┆ …        ┆ …            │\n",
       "│ 2024-01-29 ┆ 600135.SH ┆ -2.630456  ┆ 0.004604 ┆ 0.328427     │\n",
       "│ 2024-01-29 ┆ 300094.SZ ┆ -15.930723 ┆ 0.012919 ┆ 0.423053     │\n",
       "│ 2024-01-29 ┆ 002578.SZ ┆ 34.80902   ┆ 0.014549 ┆ -0.123171    │\n",
       "│ 2024-01-29 ┆ 002207.SZ ┆ -5.176053  ┆ 0.009451 ┆ 0.411038     │\n",
       "│ 2024-01-29 ┆ 300271.SZ ┆ 2.617026   ┆ 0.004489 ┆ 0.089317     │\n",
       "└────────────┴───────────┴────────────┴──────────┴──────────────┘"
      ]
     },
     "execution_count": 5,
     "metadata": {},
     "output_type": "execute_result"
    }
   ],
   "source": [
    "df = factor1.join(\n",
    "    factor2,\n",
    "    on=['date','code'],\n",
    "    how='inner'\n",
    ").join(\n",
    "    factor3,\n",
    "    on=['date','code'],\n",
    "\n",
    "    how='inner'\n",
    ").drop(['monthly_mean','monthly_std'])\n",
    "df"
   ]
  },
  {
   "cell_type": "code",
   "execution_count": 9,
   "id": "29feabc3",
   "metadata": {},
   "outputs": [
    {
     "data": {
      "text/html": [
       "<div><style>\n",
       ".dataframe > thead > tr,\n",
       ".dataframe > tbody > tr {\n",
       "  text-align: right;\n",
       "  white-space: pre-wrap;\n",
       "}\n",
       "</style>\n",
       "<small>shape: (3, 3)</small><table border=\"1\" class=\"dataframe\"><thead><tr><th>factor_3</th><th>factor</th><th>factor_right</th></tr><tr><td>f64</td><td>f64</td><td>f64</td></tr></thead><tbody><tr><td>1.0</td><td>-0.215569</td><td>0.118245</td></tr><tr><td>-0.215569</td><td>1.0</td><td>-0.277406</td></tr><tr><td>0.118245</td><td>-0.277406</td><td>1.0</td></tr></tbody></table></div>"
      ],
      "text/plain": [
       "shape: (3, 3)\n",
       "┌───────────┬───────────┬──────────────┐\n",
       "│ factor_3  ┆ factor    ┆ factor_right │\n",
       "│ ---       ┆ ---       ┆ ---          │\n",
       "│ f64       ┆ f64       ┆ f64          │\n",
       "╞═══════════╪═══════════╪══════════════╡\n",
       "│ 1.0       ┆ -0.215569 ┆ 0.118245     │\n",
       "│ -0.215569 ┆ 1.0       ┆ -0.277406    │\n",
       "│ 0.118245  ┆ -0.277406 ┆ 1.0          │\n",
       "└───────────┴───────────┴──────────────┘"
      ]
     },
     "execution_count": 9,
     "metadata": {},
     "output_type": "execute_result"
    }
   ],
   "source": [
    "df.select(['factor_3',\t'factor',\t'factor_right']).drop_nulls().corr()"
   ]
  }
 ],
 "metadata": {
  "kernelspec": {
   "display_name": "base",
   "language": "python",
   "name": "python3"
  },
  "language_info": {
   "codemirror_mode": {
    "name": "ipython",
    "version": 3
   },
   "file_extension": ".py",
   "mimetype": "text/x-python",
   "name": "python",
   "nbconvert_exporter": "python",
   "pygments_lexer": "ipython3",
   "version": "3.12.4"
  }
 },
 "nbformat": 4,
 "nbformat_minor": 5
}
