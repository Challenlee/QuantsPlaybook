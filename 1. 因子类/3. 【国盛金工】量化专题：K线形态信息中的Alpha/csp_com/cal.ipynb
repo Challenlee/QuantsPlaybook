{
 "cells": [
  {
   "cell_type": "code",
   "execution_count": 34,
   "metadata": {},
   "outputs": [],
   "source": [
    "import pandas as pd\n",
    "# from qipy import q\n",
    "import os\n",
    "import numpy as np\n",
    "import time\n",
    "from concurrent.futures import ThreadPoolExecutor\n",
    "from multiprocessing import Manager\n",
    "from joblib import Parallel, delayed\n",
    "import polars as pl\n",
    "import datetime as dt\n",
    "import time"
   ]
  },
  {
   "cell_type": "markdown",
   "metadata": {},
   "source": [
    "## 参数设置"
   ]
  },
  {
   "cell_type": "code",
   "execution_count": 35,
   "metadata": {},
   "outputs": [],
   "source": [
    "# df = pl.read_csv('csp_all.csv')\n",
    "# df.filter((pl.col('date')=='2025-02-13')&(pl.col('code')=='002401.SZ'))"
   ]
  },
  {
   "cell_type": "code",
   "execution_count": 36,
   "metadata": {},
   "outputs": [],
   "source": [
    "# 参数设置\n",
    "window_for_vol_mean = 20  # 成交额均值计算的滚动窗口\n",
    "start_date = '2011-01-01'\n",
    "end_date = '2025-02-18'\n",
    "n_days = 756   # 过去756个交易日，约3年\n",
    "lag_days = 20  # 不使用最近20个交易日的数据\n",
    "min_samples = 20  # 历史窗口中要求至少252个样本，否则 IR 为空\n",
    "output_folder = 'final_results'\n",
    "os.makedirs(output_folder, exist_ok=True)\n",
    "stock_codes = ['*']  # 全部股票\n",
    "num1 = 1\n",
    "num2 = 11\n",
    "\n"
   ]
  },
  {
   "cell_type": "code",
   "execution_count": 37,
   "metadata": {},
   "outputs": [
    {
     "data": {
      "text/html": [
       "<div><style>\n",
       ".dataframe > thead > tr,\n",
       ".dataframe > tbody > tr {\n",
       "  text-align: right;\n",
       "  white-space: pre-wrap;\n",
       "}\n",
       "</style>\n",
       "<small>shape: (12_019_791, 8)</small><table border=\"1\" class=\"dataframe\"><thead><tr><th>date</th><th>code</th><th>open_adj</th><th>high_adj</th><th>low_adj</th><th>close_adj</th><th>amt</th><th>Mom</th></tr><tr><td>str</td><td>cat</td><td>f64</td><td>f64</td><td>f64</td><td>f64</td><td>f64</td><td>f64</td></tr></thead><tbody><tr><td>&quot;2010-01-04&quot;</td><td>&quot;000001.SZ&quot;</td><td>880.403743</td><td>882.558075</td><td>850.243092</td><td>851.320259</td><td>5.8025e8</td><td>null</td></tr><tr><td>&quot;2010-01-05&quot;</td><td>&quot;000001.SZ&quot;</td><td>852.75648</td><td>858.14231</td><td>816.850944</td><td>836.598989</td><td>1.2935e9</td><td>null</td></tr><tr><td>&quot;2010-01-06&quot;</td><td>&quot;000001.SZ&quot;</td><td>834.803712</td><td>834.803712</td><td>815.773778</td><td>822.236774</td><td>9.4445e8</td><td>null</td></tr><tr><td>&quot;2010-01-07&quot;</td><td>&quot;000001.SZ&quot;</td><td>822.236774</td><td>827.622605</td><td>804.284006</td><td>813.26039</td><td>8.0417e8</td><td>null</td></tr><tr><td>&quot;2010-01-08&quot;</td><td>&quot;000001.SZ&quot;</td><td>807.87456</td><td>816.850944</td><td>802.48873</td><td>811.465114</td><td>6.5067e8</td><td>null</td></tr><tr><td>&hellip;</td><td>&hellip;</td><td>&hellip;</td><td>&hellip;</td><td>&hellip;</td><td>&hellip;</td><td>&hellip;</td><td>&hellip;</td></tr><tr><td>&quot;2025-02-07&quot;</td><td>&quot;689009.SH&quot;</td><td>52.607979</td><td>52.849669</td><td>50.755018</td><td>51.238399</td><td>6.81044124e8</td><td>0.754396</td></tr><tr><td>&quot;2025-02-10&quot;</td><td>&quot;689009.SH&quot;</td><td>50.855722</td><td>52.245443</td><td>50.603961</td><td>50.654313</td><td>4.84185058e8</td><td>0.877429</td></tr><tr><td>&quot;2025-02-11&quot;</td><td>&quot;689009.SH&quot;</td><td>50.674454</td><td>51.208187</td><td>50.110509</td><td>50.614031</td><td>3.62553983e8</td><td>0.925422</td></tr><tr><td>&quot;2025-02-12&quot;</td><td>&quot;689009.SH&quot;</td><td>50.603961</td><td>52.023893</td><td>50.060157</td><td>51.72178</td><td>4.52364628e8</td><td>1.001665</td></tr><tr><td>&quot;2025-02-13&quot;</td><td>&quot;689009.SH&quot;</td><td>51.540512</td><td>54.128615</td><td>51.409596</td><td>53.272628</td><td>7.0016148e8</td><td>1.107889</td></tr></tbody></table></div>"
      ],
      "text/plain": [
       "shape: (12_019_791, 8)\n",
       "┌────────────┬───────────┬────────────┬────────────┬────────────┬───────────┬───────────┬──────────┐\n",
       "│ date       ┆ code      ┆ open_adj   ┆ high_adj   ┆ low_adj    ┆ close_adj ┆ amt       ┆ Mom      │\n",
       "│ ---        ┆ ---       ┆ ---        ┆ ---        ┆ ---        ┆ ---       ┆ ---       ┆ ---      │\n",
       "│ str        ┆ cat       ┆ f64        ┆ f64        ┆ f64        ┆ f64       ┆ f64       ┆ f64      │\n",
       "╞════════════╪═══════════╪════════════╪════════════╪════════════╪═══════════╪═══════════╪══════════╡\n",
       "│ 2010-01-04 ┆ 000001.SZ ┆ 880.403743 ┆ 882.558075 ┆ 850.243092 ┆ 851.32025 ┆ 5.8025e8  ┆ null     │\n",
       "│            ┆           ┆            ┆            ┆            ┆ 9         ┆           ┆          │\n",
       "│ 2010-01-05 ┆ 000001.SZ ┆ 852.75648  ┆ 858.14231  ┆ 816.850944 ┆ 836.59898 ┆ 1.2935e9  ┆ null     │\n",
       "│            ┆           ┆            ┆            ┆            ┆ 9         ┆           ┆          │\n",
       "│ 2010-01-06 ┆ 000001.SZ ┆ 834.803712 ┆ 834.803712 ┆ 815.773778 ┆ 822.23677 ┆ 9.4445e8  ┆ null     │\n",
       "│            ┆           ┆            ┆            ┆            ┆ 4         ┆           ┆          │\n",
       "│ 2010-01-07 ┆ 000001.SZ ┆ 822.236774 ┆ 827.622605 ┆ 804.284006 ┆ 813.26039 ┆ 8.0417e8  ┆ null     │\n",
       "│ 2010-01-08 ┆ 000001.SZ ┆ 807.87456  ┆ 816.850944 ┆ 802.48873  ┆ 811.46511 ┆ 6.5067e8  ┆ null     │\n",
       "│            ┆           ┆            ┆            ┆            ┆ 4         ┆           ┆          │\n",
       "│ …          ┆ …         ┆ …          ┆ …          ┆ …          ┆ …         ┆ …         ┆ …        │\n",
       "│ 2025-02-07 ┆ 689009.SH ┆ 52.607979  ┆ 52.849669  ┆ 50.755018  ┆ 51.238399 ┆ 6.8104412 ┆ 0.754396 │\n",
       "│            ┆           ┆            ┆            ┆            ┆           ┆ 4e8       ┆          │\n",
       "│ 2025-02-10 ┆ 689009.SH ┆ 50.855722  ┆ 52.245443  ┆ 50.603961  ┆ 50.654313 ┆ 4.8418505 ┆ 0.877429 │\n",
       "│            ┆           ┆            ┆            ┆            ┆           ┆ 8e8       ┆          │\n",
       "│ 2025-02-11 ┆ 689009.SH ┆ 50.674454  ┆ 51.208187  ┆ 50.110509  ┆ 50.614031 ┆ 3.6255398 ┆ 0.925422 │\n",
       "│            ┆           ┆            ┆            ┆            ┆           ┆ 3e8       ┆          │\n",
       "│ 2025-02-12 ┆ 689009.SH ┆ 50.603961  ┆ 52.023893  ┆ 50.060157  ┆ 51.72178  ┆ 4.5236462 ┆ 1.001665 │\n",
       "│            ┆           ┆            ┆            ┆            ┆           ┆ 8e8       ┆          │\n",
       "│ 2025-02-13 ┆ 689009.SH ┆ 51.540512  ┆ 54.128615  ┆ 51.409596  ┆ 53.272628 ┆ 7.0016148 ┆ 1.107889 │\n",
       "│            ┆           ┆            ┆            ┆            ┆           ┆ e8        ┆          │\n",
       "└────────────┴───────────┴────────────┴────────────┴────────────┴───────────┴───────────┴──────────┘"
      ]
     },
     "execution_count": 37,
     "metadata": {},
     "output_type": "execute_result"
    }
   ],
   "source": [
    "df_price = (\n",
    "    pl.read_csv('data.csv')\n",
    "    .select(['date', 'code', 'open_adj', 'high_adj', 'low_adj', 'close_adj', 'amt'])\n",
    "    .filter(~pl.col('code').str.contains('HK'))\n",
    "    .filter(~pl.col('code').str.contains('BJ'))\n",
    "    .with_columns(\n",
    "        pl.col('code').cast(pl.Categorical),\n",
    "    # .drop_nulls()\n",
    "        # ((pl.col('close_adj').shift(-lag_days) / pl.col('close_adj') - 1).over('code')).alias('future20_return'),\n",
    "        ((pl.col('close_adj').shift(20) / (pl.col('close_adj').shift(252)) - 1)).over('code').alias('Mom'),\n",
    "    ).filter(pl.col(\"amt\") != 0)#.drop_nulls('Mom')\n",
    ")\n",
    "\n",
    "df_price"
   ]
  },
  {
   "cell_type": "code",
   "execution_count": null,
   "metadata": {},
   "outputs": [],
   "source": []
  },
  {
   "cell_type": "code",
   "execution_count": 38,
   "metadata": {},
   "outputs": [
    {
     "data": {
      "text/html": [
       "<div><style>\n",
       ".dataframe > thead > tr,\n",
       ".dataframe > tbody > tr {\n",
       "  text-align: right;\n",
       "  white-space: pre-wrap;\n",
       "}\n",
       "</style>\n",
       "<small>shape: (0, 8)</small><table border=\"1\" class=\"dataframe\"><thead><tr><th>date</th><th>code</th><th>open_adj</th><th>high_adj</th><th>low_adj</th><th>close_adj</th><th>amt</th><th>Mom</th></tr><tr><td>str</td><td>cat</td><td>f64</td><td>f64</td><td>f64</td><td>f64</td><td>f64</td><td>f64</td></tr></thead><tbody></tbody></table></div>"
      ],
      "text/plain": [
       "shape: (0, 8)\n",
       "┌──────┬──────┬──────────┬──────────┬─────────┬───────────┬─────┬─────┐\n",
       "│ date ┆ code ┆ open_adj ┆ high_adj ┆ low_adj ┆ close_adj ┆ amt ┆ Mom │\n",
       "│ ---  ┆ ---  ┆ ---      ┆ ---      ┆ ---     ┆ ---       ┆ --- ┆ --- │\n",
       "│ str  ┆ cat  ┆ f64      ┆ f64      ┆ f64     ┆ f64       ┆ f64 ┆ f64 │\n",
       "╞══════╪══════╪══════════╪══════════╪═════════╪═══════════╪═════╪═════╡\n",
       "└──────┴──────┴──────────┴──────────┴─────────┴───────────┴─────┴─────┘"
      ]
     },
     "execution_count": 38,
     "metadata": {},
     "output_type": "execute_result"
    }
   ],
   "source": [
    "df_price.filter(df_price.is_duplicated())"
   ]
  },
  {
   "cell_type": "code",
   "execution_count": 39,
   "metadata": {},
   "outputs": [
    {
     "data": {
      "text/html": [
       "<div><style>\n",
       ".dataframe > thead > tr,\n",
       ".dataframe > tbody > tr {\n",
       "  text-align: right;\n",
       "  white-space: pre-wrap;\n",
       "}\n",
       "</style>\n",
       "<small>shape: (3_661, 2)</small><table border=\"1\" class=\"dataframe\"><thead><tr><th>date</th><th>Mom</th></tr><tr><td>str</td><td>f64</td></tr></thead><tbody><tr><td>&quot;2010-01-04&quot;</td><td>null</td></tr><tr><td>&quot;2010-01-05&quot;</td><td>null</td></tr><tr><td>&quot;2010-01-06&quot;</td><td>null</td></tr><tr><td>&quot;2010-01-07&quot;</td><td>null</td></tr><tr><td>&quot;2010-01-08&quot;</td><td>null</td></tr><tr><td>&hellip;</td><td>&hellip;</td></tr><tr><td>&quot;2025-02-07&quot;</td><td>0.123794</td></tr><tr><td>&quot;2025-02-10&quot;</td><td>0.066004</td></tr><tr><td>&quot;2025-02-11&quot;</td><td>0.0868</td></tr><tr><td>&quot;2025-02-12&quot;</td><td>0.133078</td></tr><tr><td>&quot;2025-02-13&quot;</td><td>0.198979</td></tr></tbody></table></div>"
      ],
      "text/plain": [
       "shape: (3_661, 2)\n",
       "┌────────────┬──────────┐\n",
       "│ date       ┆ Mom      │\n",
       "│ ---        ┆ ---      │\n",
       "│ str        ┆ f64      │\n",
       "╞════════════╪══════════╡\n",
       "│ 2010-01-04 ┆ null     │\n",
       "│ 2010-01-05 ┆ null     │\n",
       "│ 2010-01-06 ┆ null     │\n",
       "│ 2010-01-07 ┆ null     │\n",
       "│ 2010-01-08 ┆ null     │\n",
       "│ …          ┆ …        │\n",
       "│ 2025-02-07 ┆ 0.123794 │\n",
       "│ 2025-02-10 ┆ 0.066004 │\n",
       "│ 2025-02-11 ┆ 0.0868   │\n",
       "│ 2025-02-12 ┆ 0.133078 │\n",
       "│ 2025-02-13 ┆ 0.198979 │\n",
       "└────────────┴──────────┘"
      ]
     },
     "execution_count": 39,
     "metadata": {},
     "output_type": "execute_result"
    }
   ],
   "source": [
    "df_000985 = df_price.filter(pl.col('code') == '000985.SZ').select(['date','Mom'])\n",
    "df_000985"
   ]
  },
  {
   "cell_type": "code",
   "execution_count": 40,
   "metadata": {},
   "outputs": [],
   "source": [
    "# 计算每日其余股票对000985.SZ的超额收益\n",
    "df_price = df_price.join(df_000985, on='date', suffix=\"_target\") \\\n",
    "    .with_columns((pl.col('Mom') - pl.col('Mom_target')/(pl.col('Mom_target')+1)).alias('Mom'))"
   ]
  },
  {
   "cell_type": "code",
   "execution_count": 41,
   "metadata": {},
   "outputs": [
    {
     "data": {
      "text/plain": [
       "DatetimeIndex(['2017-06-14', '2023-03-17', '2018-11-05', '2012-12-17',\n",
       "               '2022-06-02', '2020-07-15', '2017-04-26', '2021-05-24',\n",
       "               '2012-04-17', '2010-09-17',\n",
       "               ...\n",
       "               '2011-06-10', '2020-07-03', '2016-11-30', '2013-05-16',\n",
       "               '2019-06-13', '2023-09-25', '2021-02-05', '2014-07-28',\n",
       "               '2018-11-15', '2019-11-27'],\n",
       "              dtype='datetime64[ns]', length=3661, freq=None)"
      ]
     },
     "execution_count": 41,
     "metadata": {},
     "output_type": "execute_result"
    }
   ],
   "source": [
    "dates = df_price['date'].unique().to_list()\n",
    "date_list = pd.to_datetime(dates)\n",
    "date_list"
   ]
  },
  {
   "cell_type": "code",
   "execution_count": 42,
   "metadata": {},
   "outputs": [
    {
     "data": {
      "text/html": [
       "<div><style>\n",
       ".dataframe > thead > tr,\n",
       ".dataframe > tbody > tr {\n",
       "  text-align: right;\n",
       "  white-space: pre-wrap;\n",
       "}\n",
       "</style>\n",
       "<small>shape: (1, 9)</small><table border=\"1\" class=\"dataframe\"><thead><tr><th>date</th><th>code</th><th>open_adj</th><th>high_adj</th><th>low_adj</th><th>close_adj</th><th>amt</th><th>Mom</th><th>Mom_target</th></tr><tr><td>u32</td><td>u32</td><td>u32</td><td>u32</td><td>u32</td><td>u32</td><td>u32</td><td>u32</td><td>u32</td></tr></thead><tbody><tr><td>0</td><td>0</td><td>0</td><td>0</td><td>0</td><td>0</td><td>0</td><td>1297973</td><td>449496</td></tr></tbody></table></div>"
      ],
      "text/plain": [
       "shape: (1, 9)\n",
       "┌──────┬──────┬──────────┬──────────┬───┬───────────┬─────┬─────────┬────────────┐\n",
       "│ date ┆ code ┆ open_adj ┆ high_adj ┆ … ┆ close_adj ┆ amt ┆ Mom     ┆ Mom_target │\n",
       "│ ---  ┆ ---  ┆ ---      ┆ ---      ┆   ┆ ---       ┆ --- ┆ ---     ┆ ---        │\n",
       "│ u32  ┆ u32  ┆ u32      ┆ u32      ┆   ┆ u32       ┆ u32 ┆ u32     ┆ u32        │\n",
       "╞══════╪══════╪══════════╪══════════╪═══╪═══════════╪═════╪═════════╪════════════╡\n",
       "│ 0    ┆ 0    ┆ 0        ┆ 0        ┆ … ┆ 0         ┆ 0   ┆ 1297973 ┆ 449496     │\n",
       "└──────┴──────┴──────────┴──────────┴───┴───────────┴─────┴─────────┴────────────┘"
      ]
     },
     "execution_count": 42,
     "metadata": {},
     "output_type": "execute_result"
    }
   ],
   "source": [
    "null_counts = df_price.select([pl.col(col).is_null().sum().alias(col) for col in df_price.columns])\n",
    "\n",
    "null_counts"
   ]
  },
  {
   "cell_type": "markdown",
   "metadata": {},
   "source": [
    "- <span style=\"color: yellow;\">**groupby**</span> -> 标记类聚的分组，返回一个跟组的个数一致的 DataFrame\n",
    "\n",
    "- <span style=\"color: yellow;\">**over**</span> -> 标记我们希望对这个分组进行计算，但是不会更改原有 DataFrame 的形状"
   ]
  },
  {
   "cell_type": "code",
   "execution_count": 43,
   "metadata": {},
   "outputs": [
    {
     "data": {
      "text/html": [
       "<div><style>\n",
       ".dataframe > thead > tr,\n",
       ".dataframe > tbody > tr {\n",
       "  text-align: right;\n",
       "  white-space: pre-wrap;\n",
       "}\n",
       "</style>\n",
       "<small>shape: (12_005_079, 9)</small><table border=\"1\" class=\"dataframe\"><thead><tr><th>date</th><th>code</th><th>k_high</th><th>k_low</th><th>k_open</th><th>k_close</th><th>amt</th><th>amount_mean</th><th>Mom</th></tr><tr><td>str</td><td>cat</td><td>f64</td><td>f64</td><td>f64</td><td>f64</td><td>f64</td><td>f64</td><td>f64</td></tr></thead><tbody><tr><td>&quot;2010-01-04&quot;</td><td>&quot;000001.SZ&quot;</td><td>null</td><td>null</td><td>null</td><td>851.320259</td><td>5.8025e8</td><td>null</td><td>null</td></tr><tr><td>&quot;2010-01-05&quot;</td><td>&quot;000001.SZ&quot;</td><td>null</td><td>null</td><td>null</td><td>836.598989</td><td>1.2935e9</td><td>null</td><td>null</td></tr><tr><td>&quot;2010-01-06&quot;</td><td>&quot;000001.SZ&quot;</td><td>null</td><td>null</td><td>null</td><td>822.236774</td><td>9.4445e8</td><td>null</td><td>null</td></tr><tr><td>&quot;2010-01-07&quot;</td><td>&quot;000001.SZ&quot;</td><td>null</td><td>null</td><td>null</td><td>813.26039</td><td>8.0417e8</td><td>null</td><td>null</td></tr><tr><td>&quot;2010-01-08&quot;</td><td>&quot;000001.SZ&quot;</td><td>882.558075</td><td>802.48873</td><td>880.403743</td><td>811.465114</td><td>6.5067e8</td><td>null</td><td>null</td></tr><tr><td>&hellip;</td><td>&hellip;</td><td>&hellip;</td><td>&hellip;</td><td>&hellip;</td><td>&hellip;</td><td>&hellip;</td><td>&hellip;</td><td>&hellip;</td></tr><tr><td>&quot;2025-02-07&quot;</td><td>&quot;689009.SH&quot;</td><td>54.853687</td><td>49.20417</td><td>53.373332</td><td>51.238399</td><td>6.81044124e8</td><td>5.3488e8</td><td>0.644239</td></tr><tr><td>&quot;2025-02-10&quot;</td><td>&quot;689009.SH&quot;</td><td>53.161853</td><td>49.20417</td><td>51.329033</td><td>50.654313</td><td>4.84185058e8</td><td>5.2103e8</td><td>0.815511</td></tr><tr><td>&quot;2025-02-11&quot;</td><td>&quot;689009.SH&quot;</td><td>53.161853</td><td>49.20417</td><td>52.064175</td><td>50.614031</td><td>3.62553983e8</td><td>4.9237e8</td><td>0.845555</td></tr><tr><td>&quot;2025-02-12&quot;</td><td>&quot;689009.SH&quot;</td><td>53.161853</td><td>49.697621</td><td>49.697621</td><td>51.72178</td><td>4.52364628e8</td><td>4.7850e8</td><td>0.884217</td></tr><tr><td>&quot;2025-02-13&quot;</td><td>&quot;689009.SH&quot;</td><td>54.128615</td><td>50.060157</td><td>52.607979</td><td>53.272628</td><td>7.0016148e8</td><td>4.8392e8</td><td>0.941932</td></tr></tbody></table></div>"
      ],
      "text/plain": [
       "shape: (12_005_079, 9)\n",
       "┌───────────┬───────────┬───────────┬───────────┬───┬───────────┬───────────┬───────────┬──────────┐\n",
       "│ date      ┆ code      ┆ k_high    ┆ k_low     ┆ … ┆ k_close   ┆ amt       ┆ amount_me ┆ Mom      │\n",
       "│ ---       ┆ ---       ┆ ---       ┆ ---       ┆   ┆ ---       ┆ ---       ┆ an        ┆ ---      │\n",
       "│ str       ┆ cat       ┆ f64       ┆ f64       ┆   ┆ f64       ┆ f64       ┆ ---       ┆ f64      │\n",
       "│           ┆           ┆           ┆           ┆   ┆           ┆           ┆ f64       ┆          │\n",
       "╞═══════════╪═══════════╪═══════════╪═══════════╪═══╪═══════════╪═══════════╪═══════════╪══════════╡\n",
       "│ 2010-01-0 ┆ 000001.SZ ┆ null      ┆ null      ┆ … ┆ 851.32025 ┆ 5.8025e8  ┆ null      ┆ null     │\n",
       "│ 4         ┆           ┆           ┆           ┆   ┆ 9         ┆           ┆           ┆          │\n",
       "│ 2010-01-0 ┆ 000001.SZ ┆ null      ┆ null      ┆ … ┆ 836.59898 ┆ 1.2935e9  ┆ null      ┆ null     │\n",
       "│ 5         ┆           ┆           ┆           ┆   ┆ 9         ┆           ┆           ┆          │\n",
       "│ 2010-01-0 ┆ 000001.SZ ┆ null      ┆ null      ┆ … ┆ 822.23677 ┆ 9.4445e8  ┆ null      ┆ null     │\n",
       "│ 6         ┆           ┆           ┆           ┆   ┆ 4         ┆           ┆           ┆          │\n",
       "│ 2010-01-0 ┆ 000001.SZ ┆ null      ┆ null      ┆ … ┆ 813.26039 ┆ 8.0417e8  ┆ null      ┆ null     │\n",
       "│ 7         ┆           ┆           ┆           ┆   ┆           ┆           ┆           ┆          │\n",
       "│ 2010-01-0 ┆ 000001.SZ ┆ 882.55807 ┆ 802.48873 ┆ … ┆ 811.46511 ┆ 6.5067e8  ┆ null      ┆ null     │\n",
       "│ 8         ┆           ┆ 5         ┆           ┆   ┆ 4         ┆           ┆           ┆          │\n",
       "│ …         ┆ …         ┆ …         ┆ …         ┆ … ┆ …         ┆ …         ┆ …         ┆ …        │\n",
       "│ 2025-02-0 ┆ 689009.SH ┆ 54.853687 ┆ 49.20417  ┆ … ┆ 51.238399 ┆ 6.8104412 ┆ 5.3488e8  ┆ 0.644239 │\n",
       "│ 7         ┆           ┆           ┆           ┆   ┆           ┆ 4e8       ┆           ┆          │\n",
       "│ 2025-02-1 ┆ 689009.SH ┆ 53.161853 ┆ 49.20417  ┆ … ┆ 50.654313 ┆ 4.8418505 ┆ 5.2103e8  ┆ 0.815511 │\n",
       "│ 0         ┆           ┆           ┆           ┆   ┆           ┆ 8e8       ┆           ┆          │\n",
       "│ 2025-02-1 ┆ 689009.SH ┆ 53.161853 ┆ 49.20417  ┆ … ┆ 50.614031 ┆ 3.6255398 ┆ 4.9237e8  ┆ 0.845555 │\n",
       "│ 1         ┆           ┆           ┆           ┆   ┆           ┆ 3e8       ┆           ┆          │\n",
       "│ 2025-02-1 ┆ 689009.SH ┆ 53.161853 ┆ 49.697621 ┆ … ┆ 51.72178  ┆ 4.5236462 ┆ 4.7850e8  ┆ 0.884217 │\n",
       "│ 2         ┆           ┆           ┆           ┆   ┆           ┆ 8e8       ┆           ┆          │\n",
       "│ 2025-02-1 ┆ 689009.SH ┆ 54.128615 ┆ 50.060157 ┆ … ┆ 53.272628 ┆ 7.0016148 ┆ 4.8392e8  ┆ 0.941932 │\n",
       "│ 3         ┆           ┆           ┆           ┆   ┆           ┆ e8        ┆           ┆          │\n",
       "└───────────┴───────────┴───────────┴───────────┴───┴───────────┴───────────┴───────────┴──────────┘"
      ]
     },
     "execution_count": 43,
     "metadata": {},
     "output_type": "execute_result"
    }
   ],
   "source": [
    "def aggregate_k_lines(df_group,i):\n",
    "        result = df_price.with_columns(\n",
    "            k_high=pl.col(\"high_adj\").rolling_max(window_size=i).over(\"code\"),\n",
    "            k_low=pl.col(\"low_adj\").rolling_min(window_size=i).over(\"code\"),\n",
    "            k_open=pl.col(\"open_adj\").shift(i-1).over(\"code\"),\n",
    "            k_close=pl.col(\"close_adj\"),\n",
    "            amount_mean=pl.col(\"amt\").rolling_mean(window_size=window_for_vol_mean).over(\"code\"),\n",
    "\n",
    "        )\n",
    "        # result = result.with_columns(\n",
    "        #     pl.col(\"k_amount\").rolling_mean(window_size=window_for_vol_mean).over(\"code\").alias(\"amount_mean\")\n",
    "        # )\n",
    "        return result.select(['date','code','k_high','k_low','k_open','k_close','amt','amount_mean','Mom'])\n",
    "df_k_line = aggregate_k_lines(df_price,5)\n",
    "df_k_line"
   ]
  },
  {
   "cell_type": "code",
   "execution_count": 44,
   "metadata": {},
   "outputs": [
    {
     "data": {
      "text/html": [
       "<div><style>\n",
       ".dataframe > thead > tr,\n",
       ".dataframe > tbody > tr {\n",
       "  text-align: right;\n",
       "  white-space: pre-wrap;\n",
       "}\n",
       "</style>\n",
       "<small>shape: (11_903_493, 5)</small><table border=\"1\" class=\"dataframe\"><thead><tr><th>date</th><th>code</th><th>pattern</th><th>Mom</th><th>k_close</th></tr><tr><td>str</td><td>cat</td><td>cat</td><td>f64</td><td>f64</td></tr></thead><tbody><tr><td>&quot;2010-02-02&quot;</td><td>&quot;000001.SZ&quot;</td><td>&quot;缩阴大长上长下_阴大短上短下_阴大短上短下&quot;</td><td>null</td><td>767.301304</td></tr><tr><td>&quot;2010-02-03&quot;</td><td>&quot;000001.SZ&quot;</td><td>&quot;常阴大短上短下_阴大短上短下_阳大短上长下&quot;</td><td>null</td><td>810.747003</td></tr><tr><td>&quot;2010-02-04&quot;</td><td>&quot;000001.SZ&quot;</td><td>&quot;缩阴大短上短下_阳大短上长下_阳中短上长下&quot;</td><td>null</td><td>797.102899</td></tr><tr><td>&quot;2010-02-05&quot;</td><td>&quot;000001.SZ&quot;</td><td>&quot;缩阳大短上长下_阳中短上长下_阳小长上长下&quot;</td><td>null</td><td>789.921792</td></tr><tr><td>&quot;2010-02-08&quot;</td><td>&quot;000001.SZ&quot;</td><td>&quot;缩阳中短上长下_阳小长上长下_阳小长上短下&quot;</td><td>null</td><td>774.123356</td></tr><tr><td>&hellip;</td><td>&hellip;</td><td>&hellip;</td><td>&hellip;</td><td>&hellip;</td></tr><tr><td>&quot;2025-02-07&quot;</td><td>&quot;689009.SH&quot;</td><td>&quot;放阴大长上长下_阴大短上长下_阴大长上长下&quot;</td><td>0.644239</td><td>51.238399</td></tr><tr><td>&quot;2025-02-10&quot;</td><td>&quot;689009.SH&quot;</td><td>&quot;常阴大短上长下_阴大长上长下_阴小长上长下&quot;</td><td>0.815511</td><td>50.654313</td></tr><tr><td>&quot;2025-02-11&quot;</td><td>&quot;689009.SH&quot;</td><td>&quot;缩阴大长上长下_阴小长上长下_阴中长上长下&quot;</td><td>0.845555</td><td>50.614031</td></tr><tr><td>&quot;2025-02-12&quot;</td><td>&quot;689009.SH&quot;</td><td>&quot;常阴小长上长下_阴中长上长下_阳大长上短下&quot;</td><td>0.884217</td><td>51.72178</td></tr><tr><td>&quot;2025-02-13&quot;</td><td>&quot;689009.SH&quot;</td><td>&quot;放阴中长上长下_阳大长上短下_阳小短上长下&quot;</td><td>0.941932</td><td>53.272628</td></tr></tbody></table></div>"
      ],
      "text/plain": [
       "shape: (11_903_493, 5)\n",
       "┌────────────┬───────────┬─────────────────────────────────┬──────────┬────────────┐\n",
       "│ date       ┆ code      ┆ pattern                         ┆ Mom      ┆ k_close    │\n",
       "│ ---        ┆ ---       ┆ ---                             ┆ ---      ┆ ---        │\n",
       "│ str        ┆ cat       ┆ cat                             ┆ f64      ┆ f64        │\n",
       "╞════════════╪═══════════╪═════════════════════════════════╪══════════╪════════════╡\n",
       "│ 2010-02-02 ┆ 000001.SZ ┆ 缩阴大长上长下_阴大短上短下_阴  ┆ null     ┆ 767.301304 │\n",
       "│            ┆           ┆ 大短上短下                      ┆          ┆            │\n",
       "│ 2010-02-03 ┆ 000001.SZ ┆ 常阴大短上短下_阴大短上短下_阳  ┆ null     ┆ 810.747003 │\n",
       "│            ┆           ┆ 大短上长下                      ┆          ┆            │\n",
       "│ 2010-02-04 ┆ 000001.SZ ┆ 缩阴大短上短下_阳大短上长下_阳  ┆ null     ┆ 797.102899 │\n",
       "│            ┆           ┆ 中短上长下                      ┆          ┆            │\n",
       "│ 2010-02-05 ┆ 000001.SZ ┆ 缩阳大短上长下_阳中短上长下_阳  ┆ null     ┆ 789.921792 │\n",
       "│            ┆           ┆ 小长上长下                      ┆          ┆            │\n",
       "│ 2010-02-08 ┆ 000001.SZ ┆ 缩阳中短上长下_阳小长上长下_阳  ┆ null     ┆ 774.123356 │\n",
       "│            ┆           ┆ 小长上短下                      ┆          ┆            │\n",
       "│ …          ┆ …         ┆ …                               ┆ …        ┆ …          │\n",
       "│ 2025-02-07 ┆ 689009.SH ┆ 放阴大长上长下_阴大短上长下_阴  ┆ 0.644239 ┆ 51.238399  │\n",
       "│            ┆           ┆ 大长上长下                      ┆          ┆            │\n",
       "│ 2025-02-10 ┆ 689009.SH ┆ 常阴大短上长下_阴大长上长下_阴  ┆ 0.815511 ┆ 50.654313  │\n",
       "│            ┆           ┆ 小长上长下                      ┆          ┆            │\n",
       "│ 2025-02-11 ┆ 689009.SH ┆ 缩阴大长上长下_阴小长上长下_阴  ┆ 0.845555 ┆ 50.614031  │\n",
       "│            ┆           ┆ 中长上长下                      ┆          ┆            │\n",
       "│ 2025-02-12 ┆ 689009.SH ┆ 常阴小长上长下_阴中长上长下_阳  ┆ 0.884217 ┆ 51.72178   │\n",
       "│            ┆           ┆ 大长上短下                      ┆          ┆            │\n",
       "│ 2025-02-13 ┆ 689009.SH ┆ 放阴中长上长下_阳大长上短下_阳  ┆ 0.941932 ┆ 53.272628  │\n",
       "│            ┆           ┆ 小短上长下                      ┆          ┆            │\n",
       "└────────────┴───────────┴─────────────────────────────────┴──────────┴────────────┘"
      ]
     },
     "execution_count": 44,
     "metadata": {},
     "output_type": "execute_result"
    }
   ],
   "source": [
    "def calculate_price_indicators(df_k_line):\n",
    "        df_k_line = df_k_line.with_columns(\n",
    "            pl.col(\"k_close\").shift(1).over(\"code\").alias(\"pre_close\")\n",
    "        )\n",
    "\n",
    "        # 第二步：使用已存在的列计算其他指标\n",
    "        df_k_line = df_k_line.with_columns(\n",
    "            ((pl.col(\"k_open\") - pl.col(\"k_close\")).abs() / pl.col(\"pre_close\")).alias(\"body\"),\n",
    "            ((pl.col(\"k_high\") - pl.max_horizontal(\"k_open\", \"k_close\")) / pl.col(\"pre_close\")).alias(\"upper_shadow\"),\n",
    "            ((pl.min_horizontal(\"k_open\", \"k_close\") - pl.col(\"k_low\")) / pl.col(\"pre_close\")).alias(\"lower_shadow\"),\n",
    "            ((pl.col(\"amt\")) / pl.col(\"amount_mean\").over(\"code\")).alias(\"amt_ratio\"),\n",
    "        ).drop_nulls(subset=[\"lower_shadow\", 'upper_shadow', 'body', 'amt_ratio'])\n",
    "\n",
    "        # 打上标记\n",
    "        df_k_line = df_k_line.with_columns(\n",
    "            (pl.when(pl.col(\"k_close\") > pl.col(\"k_open\")).then(pl.lit(\"阳\")).otherwise(pl.lit(\"阴\")) +\n",
    "             pl.when(pl.col(\"body\") <= 0.015).then(pl.lit(\"小\"))\n",
    "             .when((pl.col(\"body\") > 0.015) & (pl.col(\"body\") <= 0.03)).then(pl.lit(\"中\"))\n",
    "             .otherwise(pl.lit(\"大\")) +\n",
    "             pl.when(pl.col(\"upper_shadow\") > 0.02).then(pl.lit(\"长上\")).otherwise(pl.lit(\"短上\")) +\n",
    "             pl.when(pl.col(\"lower_shadow\") > 0.02).then(pl.lit(\"长下\")).otherwise(pl.lit(\"短下\"))).alias(\"price_pattern\")\n",
    "        )\n",
    "        df_k_line = df_k_line.with_columns(\n",
    "            pattern=(pl.when(pl.col(\"amt_ratio\") >= 1.2).then(pl.lit(\"放\")).when(pl.col(\"amt_ratio\") <= 0.8).then(pl.lit(\"缩\")).otherwise(pl.lit(\"常\")) +\n",
    "                     # 前两日和今日的price_pattern\n",
    "                     pl.col(\"price_pattern\").shift(2) + \"_\" + pl.col(\"price_pattern\").shift(1) + \"_\" + pl.col(\"price_pattern\")).cast(pl.Categorical)\n",
    "        ).drop_nulls(subset=['pattern'])\n",
    "        # print(df_k_line)\n",
    "        return df_k_line.select(['date','code','pattern','Mom','k_close'])\n",
    "df_k_line = calculate_price_indicators(df_k_line)\n",
    "df_k_line"
   ]
  },
  {
   "cell_type": "code",
   "execution_count": 45,
   "metadata": {},
   "outputs": [
    {
     "data": {
      "text/html": [
       "<div><style>\n",
       ".dataframe > thead > tr,\n",
       ".dataframe > tbody > tr {\n",
       "  text-align: right;\n",
       "  white-space: pre-wrap;\n",
       "}\n",
       "</style>\n",
       "<small>shape: (2_588, 5)</small><table border=\"1\" class=\"dataframe\"><thead><tr><th>date</th><th>code</th><th>pattern</th><th>Mom</th><th>k_close</th></tr><tr><td>str</td><td>cat</td><td>cat</td><td>f64</td><td>f64</td></tr></thead><tbody><tr><td>&quot;2022-09-01&quot;</td><td>&quot;000004.SZ&quot;</td><td>&quot;缩阴大短上长下_阴中长上长下_阴大短上长下&quot;</td><td>-0.794101</td><td>37.631362</td></tr><tr><td>&quot;2010-06-03&quot;</td><td>&quot;000006.SZ&quot;</td><td>&quot;缩阴大短上长下_阴中长上长下_阴大短上长下&quot;</td><td>null</td><td>90.460654</td></tr><tr><td>&quot;2024-06-12&quot;</td><td>&quot;000006.SZ&quot;</td><td>&quot;缩阴大短上长下_阴中长上长下_阴大短上长下&quot;</td><td>-0.111802</td><td>137.896672</td></tr><tr><td>&quot;2012-07-16&quot;</td><td>&quot;000008.SZ&quot;</td><td>&quot;缩阴大短上长下_阴中长上长下_阴大短上长下&quot;</td><td>0.006691</td><td>26.841225</td></tr><tr><td>&quot;2013-07-25&quot;</td><td>&quot;000009.SZ&quot;</td><td>&quot;缩阴大短上长下_阴中长上长下_阴大短上长下&quot;</td><td>0.319172</td><td>45.493477</td></tr><tr><td>&hellip;</td><td>&hellip;</td><td>&hellip;</td><td>&hellip;</td><td>&hellip;</td></tr><tr><td>&quot;2022-09-21&quot;</td><td>&quot;688722.SH&quot;</td><td>&quot;缩阴大短上长下_阴中长上长下_阴大短上长下&quot;</td><td>null</td><td>18.87</td></tr><tr><td>&quot;2022-12-05&quot;</td><td>&quot;688786.SH&quot;</td><td>&quot;缩阴大短上长下_阴中长上长下_阴大短上长下&quot;</td><td>-0.388184</td><td>47.431475</td></tr><tr><td>&quot;2022-12-29&quot;</td><td>&quot;688789.SH&quot;</td><td>&quot;缩阴大短上长下_阴中长上长下_阴大短上长下&quot;</td><td>-0.702963</td><td>163.642226</td></tr><tr><td>&quot;2023-02-06&quot;</td><td>&quot;688798.SH&quot;</td><td>&quot;缩阴大短上长下_阴中长上长下_阴大短上长下&quot;</td><td>-0.597154</td><td>118.345399</td></tr><tr><td>&quot;2021-09-23&quot;</td><td>&quot;688819.SH&quot;</td><td>&quot;缩阴大短上长下_阴中长上长下_阴大短上长下&quot;</td><td>null</td><td>45.236574</td></tr></tbody></table></div>"
      ],
      "text/plain": [
       "shape: (2_588, 5)\n",
       "┌────────────┬───────────┬─────────────────────────────────┬───────────┬────────────┐\n",
       "│ date       ┆ code      ┆ pattern                         ┆ Mom       ┆ k_close    │\n",
       "│ ---        ┆ ---       ┆ ---                             ┆ ---       ┆ ---        │\n",
       "│ str        ┆ cat       ┆ cat                             ┆ f64       ┆ f64        │\n",
       "╞════════════╪═══════════╪═════════════════════════════════╪═══════════╪════════════╡\n",
       "│ 2022-09-01 ┆ 000004.SZ ┆ 缩阴大短上长下_阴中长上长下_阴  ┆ -0.794101 ┆ 37.631362  │\n",
       "│            ┆           ┆ 大短上长下                      ┆           ┆            │\n",
       "│ 2010-06-03 ┆ 000006.SZ ┆ 缩阴大短上长下_阴中长上长下_阴  ┆ null      ┆ 90.460654  │\n",
       "│            ┆           ┆ 大短上长下                      ┆           ┆            │\n",
       "│ 2024-06-12 ┆ 000006.SZ ┆ 缩阴大短上长下_阴中长上长下_阴  ┆ -0.111802 ┆ 137.896672 │\n",
       "│            ┆           ┆ 大短上长下                      ┆           ┆            │\n",
       "│ 2012-07-16 ┆ 000008.SZ ┆ 缩阴大短上长下_阴中长上长下_阴  ┆ 0.006691  ┆ 26.841225  │\n",
       "│            ┆           ┆ 大短上长下                      ┆           ┆            │\n",
       "│ 2013-07-25 ┆ 000009.SZ ┆ 缩阴大短上长下_阴中长上长下_阴  ┆ 0.319172  ┆ 45.493477  │\n",
       "│            ┆           ┆ 大短上长下                      ┆           ┆            │\n",
       "│ …          ┆ …         ┆ …                               ┆ …         ┆ …          │\n",
       "│ 2022-09-21 ┆ 688722.SH ┆ 缩阴大短上长下_阴中长上长下_阴  ┆ null      ┆ 18.87      │\n",
       "│            ┆           ┆ 大短上长下                      ┆           ┆            │\n",
       "│ 2022-12-05 ┆ 688786.SH ┆ 缩阴大短上长下_阴中长上长下_阴  ┆ -0.388184 ┆ 47.431475  │\n",
       "│            ┆           ┆ 大短上长下                      ┆           ┆            │\n",
       "│ 2022-12-29 ┆ 688789.SH ┆ 缩阴大短上长下_阴中长上长下_阴  ┆ -0.702963 ┆ 163.642226 │\n",
       "│            ┆           ┆ 大短上长下                      ┆           ┆            │\n",
       "│ 2023-02-06 ┆ 688798.SH ┆ 缩阴大短上长下_阴中长上长下_阴  ┆ -0.597154 ┆ 118.345399 │\n",
       "│            ┆           ┆ 大短上长下                      ┆           ┆            │\n",
       "│ 2021-09-23 ┆ 688819.SH ┆ 缩阴大短上长下_阴中长上长下_阴  ┆ null      ┆ 45.236574  │\n",
       "│            ┆           ┆ 大短上长下                      ┆           ┆            │\n",
       "└────────────┴───────────┴─────────────────────────────────┴───────────┴────────────┘"
      ]
     },
     "execution_count": 45,
     "metadata": {},
     "output_type": "execute_result"
    }
   ],
   "source": [
    "df_k_line.filter(pl.col('pattern')==pl.lit('缩阴大短上长下_阴中长上长下_阴大短上长下'))"
   ]
  },
  {
   "cell_type": "markdown",
   "metadata": {},
   "source": [
    "动量因子为：\n",
    "\n",
    "$$\n",
    "Mom = \\frac{}{}\n",
    "$$\n",
    "\n",
    "先按照csp中的pattern分类算IC、IR(保证每日至少有十支股票才触发)，之后筛选出总有效天数超过十天的形态"
   ]
  },
  {
   "cell_type": "code",
   "execution_count": 46,
   "metadata": {},
   "outputs": [
    {
     "name": "stdout",
     "output_type": "stream",
     "text": [
      "corr:-0.0006449272652282702,spr_corr:-0.0013934503461657173\n"
     ]
    },
    {
     "data": {
      "text/html": [
       "<div><style>\n",
       ".dataframe > thead > tr,\n",
       ".dataframe > tbody > tr {\n",
       "  text-align: right;\n",
       "  white-space: pre-wrap;\n",
       "}\n",
       "</style>\n",
       "<small>shape: (111_881, 5)</small><table border=\"1\" class=\"dataframe\"><thead><tr><th>date</th><th>pattern</th><th>corr</th><th>spr_corr</th><th>count</th></tr><tr><td>str</td><td>cat</td><td>f64</td><td>f64</td><td>u32</td></tr></thead><tbody><tr><td>&quot;2011-01-18&quot;</td><td>&quot;缩阴小长上长下_阴中长上短下_阴大长上短下&quot;</td><td>0.777428</td><td>0.631868</td><td>13</td></tr><tr><td>&quot;2011-01-18&quot;</td><td>&quot;缩阴大长上短下_阴大长上短下_阴大长上长下&quot;</td><td>0.264169</td><td>0.194737</td><td>19</td></tr><tr><td>&quot;2011-01-18&quot;</td><td>&quot;缩阴大短上短下_阴大长上短下_阴大短上短下&quot;</td><td>-0.011379</td><td>0.032083</td><td>58</td></tr><tr><td>&quot;2011-01-18&quot;</td><td>&quot;缩阴大短上长下_阴大长上短下_阴大长上短下&quot;</td><td>-0.571892</td><td>-0.450549</td><td>13</td></tr><tr><td>&quot;2011-01-18&quot;</td><td>&quot;缩阴大短上长下_阴大短上短下_阴大长上短下&quot;</td><td>0.510553</td><td>0.475524</td><td>12</td></tr><tr><td>&hellip;</td><td>&hellip;</td><td>&hellip;</td><td>&hellip;</td><td>&hellip;</td></tr><tr><td>&quot;2025-02-13&quot;</td><td>&quot;常阴小短上短下_阳小短上短下_阴小短上短下&quot;</td><td>0.086581</td><td>0.066234</td><td>21</td></tr><tr><td>&quot;2025-02-13&quot;</td><td>&quot;常阳小短上长下_阳中短上短下_阳小短上短下&quot;</td><td>-0.030575</td><td>-0.135714</td><td>15</td></tr><tr><td>&quot;2025-02-13&quot;</td><td>&quot;常阳大短上短下_阳大短上短下_阳大短上短下&quot;</td><td>0.067985</td><td>0.114092</td><td>22</td></tr><tr><td>&quot;2025-02-13&quot;</td><td>&quot;放阳大长上长下_阳大长上短下_阳大长上长下&quot;</td><td>0.122477</td><td>0.134066</td><td>14</td></tr><tr><td>&quot;2025-02-13&quot;</td><td>&quot;常阳大短上短下_阳大短上短下_阳中长上短下&quot;</td><td>0.065404</td><td>-0.058402</td><td>52</td></tr></tbody></table></div>"
      ],
      "text/plain": [
       "shape: (111_881, 5)\n",
       "┌────────────┬─────────────────────────────────┬───────────┬───────────┬───────┐\n",
       "│ date       ┆ pattern                         ┆ corr      ┆ spr_corr  ┆ count │\n",
       "│ ---        ┆ ---                             ┆ ---       ┆ ---       ┆ ---   │\n",
       "│ str        ┆ cat                             ┆ f64       ┆ f64       ┆ u32   │\n",
       "╞════════════╪═════════════════════════════════╪═══════════╪═══════════╪═══════╡\n",
       "│ 2011-01-18 ┆ 缩阴小长上长下_阴中长上短下_阴  ┆ 0.777428  ┆ 0.631868  ┆ 13    │\n",
       "│            ┆ 大长上短下                      ┆           ┆           ┆       │\n",
       "│ 2011-01-18 ┆ 缩阴大长上短下_阴大长上短下_阴  ┆ 0.264169  ┆ 0.194737  ┆ 19    │\n",
       "│            ┆ 大长上长下                      ┆           ┆           ┆       │\n",
       "│ 2011-01-18 ┆ 缩阴大短上短下_阴大长上短下_阴  ┆ -0.011379 ┆ 0.032083  ┆ 58    │\n",
       "│            ┆ 大短上短下                      ┆           ┆           ┆       │\n",
       "│ 2011-01-18 ┆ 缩阴大短上长下_阴大长上短下_阴  ┆ -0.571892 ┆ -0.450549 ┆ 13    │\n",
       "│            ┆ 大长上短下                      ┆           ┆           ┆       │\n",
       "│ 2011-01-18 ┆ 缩阴大短上长下_阴大短上短下_阴  ┆ 0.510553  ┆ 0.475524  ┆ 12    │\n",
       "│            ┆ 大长上短下                      ┆           ┆           ┆       │\n",
       "│ …          ┆ …                               ┆ …         ┆ …         ┆ …     │\n",
       "│ 2025-02-13 ┆ 常阴小短上短下_阳小短上短下_阴  ┆ 0.086581  ┆ 0.066234  ┆ 21    │\n",
       "│            ┆ 小短上短下                      ┆           ┆           ┆       │\n",
       "│ 2025-02-13 ┆ 常阳小短上长下_阳中短上短下_阳  ┆ -0.030575 ┆ -0.135714 ┆ 15    │\n",
       "│            ┆ 小短上短下                      ┆           ┆           ┆       │\n",
       "│ 2025-02-13 ┆ 常阳大短上短下_阳大短上短下_阳  ┆ 0.067985  ┆ 0.114092  ┆ 22    │\n",
       "│            ┆ 大短上短下                      ┆           ┆           ┆       │\n",
       "│ 2025-02-13 ┆ 放阳大长上长下_阳大长上短下_阳  ┆ 0.122477  ┆ 0.134066  ┆ 14    │\n",
       "│            ┆ 大长上长下                      ┆           ┆           ┆       │\n",
       "│ 2025-02-13 ┆ 常阳大短上短下_阳大短上短下_阳  ┆ 0.065404  ┆ -0.058402 ┆ 52    │\n",
       "│            ┆ 中长上短下                      ┆           ┆           ┆       │\n",
       "└────────────┴─────────────────────────────────┴───────────┴───────────┴───────┘"
      ]
     },
     "execution_count": 46,
     "metadata": {},
     "output_type": "execute_result"
    }
   ],
   "source": [
    "n = 2\n",
    "IC = df_k_line.with_columns(\n",
    "    (pl.col('k_close').shift(2)/pl.col('k_close').shift(1)-1).over('code')\n",
    ").drop_nulls()\n",
    "IC = IC.group_by(['date','pattern']).agg(\n",
    "    corr =pl.corr('k_close','Mom'),\n",
    "    spr_corr =pl.corr('k_close','Mom', method=\"spearman\"),\n",
    "    count = pl.col('Mom').count(),\n",
    ").sort('date').drop_nulls().drop_nans().filter(\n",
    "    pl.col('count')>10\n",
    ")\n",
    "print(f\"corr:{IC['corr'].mean()},spr_corr:{IC['spr_corr'].mean()}\")\n",
    "IC\n"
   ]
  },
  {
   "cell_type": "code",
   "execution_count": 52,
   "metadata": {},
   "outputs": [
    {
     "data": {
      "text/html": [
       "<div><style>\n",
       ".dataframe > thead > tr,\n",
       ".dataframe > tbody > tr {\n",
       "  text-align: right;\n",
       "  white-space: pre-wrap;\n",
       "}\n",
       "</style>\n",
       "<small>shape: (1, 5)</small><table border=\"1\" class=\"dataframe\"><thead><tr><th>date</th><th>pattern</th><th>corr</th><th>spr_corr</th><th>count</th></tr><tr><td>str</td><td>cat</td><td>f64</td><td>f64</td><td>u32</td></tr></thead><tbody><tr><td>&quot;2024-10-14&quot;</td><td>&quot;常阳大长上短下_阳小长上短下_阴大短上长下&quot;</td><td>-0.285053</td><td>-0.307781</td><td>133</td></tr></tbody></table></div>"
      ],
      "text/plain": [
       "shape: (1, 5)\n",
       "┌────────────┬─────────────────────────────────┬───────────┬───────────┬───────┐\n",
       "│ date       ┆ pattern                         ┆ corr      ┆ spr_corr  ┆ count │\n",
       "│ ---        ┆ ---                             ┆ ---       ┆ ---       ┆ ---   │\n",
       "│ str        ┆ cat                             ┆ f64       ┆ f64       ┆ u32   │\n",
       "╞════════════╪═════════════════════════════════╪═══════════╪═══════════╪═══════╡\n",
       "│ 2024-10-14 ┆ 常阳大长上短下_阳小长上短下_阴  ┆ -0.285053 ┆ -0.307781 ┆ 133   │\n",
       "│            ┆ 大短上长下                      ┆           ┆           ┆       │\n",
       "└────────────┴─────────────────────────────────┴───────────┴───────────┴───────┘"
      ]
     },
     "execution_count": 52,
     "metadata": {},
     "output_type": "execute_result"
    }
   ],
   "source": [
    "IC.filter(pl.col(\"pattern\")==pl.lit(\"常阳大长上短下_阳小长上短下_阴大短上长下\"\t))"
   ]
  },
  {
   "cell_type": "code",
   "execution_count": 48,
   "metadata": {},
   "outputs": [
    {
     "data": {
      "text/html": [
       "<div><style>\n",
       ".dataframe > thead > tr,\n",
       ".dataframe > tbody > tr {\n",
       "  text-align: right;\n",
       "  white-space: pre-wrap;\n",
       "}\n",
       "</style>\n",
       "<small>shape: (1_315, 9)</small><table border=\"1\" class=\"dataframe\"><thead><tr><th>pattern</th><th>IC</th><th>ICIR</th><th>RankIC</th><th>RankICIR</th><th>num_count</th><th>date_count</th><th>last_date</th><th>date_list</th></tr><tr><td>cat</td><td>f64</td><td>f64</td><td>f64</td><td>f64</td><td>u32</td><td>u32</td><td>str</td><td>list[str]</td></tr></thead><tbody><tr><td>&quot;常阳大长上短下_阳大短上短下_阳大短上长下&quot;</td><td>-0.255168</td><td>-1.42275</td><td>-0.259051</td><td>-1.210524</td><td>391</td><td>13</td><td>&quot;2024-10-28&quot;</td><td>[&quot;2012-03-09&quot;, &quot;2015-08-17&quot;, … &quot;2024-10-28&quot;]</td></tr><tr><td>&quot;常阳中长上短下_阴小长上短下_阴大长上短下&quot;</td><td>-0.24557</td><td>-0.78069</td><td>-0.22523</td><td>-0.721194</td><td>203</td><td>13</td><td>&quot;2024-06-24&quot;</td><td>[&quot;2011-05-23&quot;, &quot;2012-09-17&quot;, … &quot;2024-06-24&quot;]</td></tr><tr><td>&quot;缩阴大短上长下_阳大短上短下_阳大短上短下&quot;</td><td>-0.24163</td><td>-0.848685</td><td>-0.183293</td><td>-0.804873</td><td>285</td><td>14</td><td>&quot;2022-11-07&quot;</td><td>[&quot;2011-06-07&quot;, &quot;2011-08-26&quot;, … &quot;2022-11-07&quot;]</td></tr><tr><td>&quot;放阳大长上长下_阳大短上短下_阳大短上长下&quot;</td><td>-0.234003</td><td>-0.934878</td><td>-0.21516</td><td>-0.963023</td><td>215</td><td>13</td><td>&quot;2024-12-02&quot;</td><td>[&quot;2013-07-03&quot;, &quot;2015-05-26&quot;, … &quot;2024-12-02&quot;]</td></tr><tr><td>&quot;缩阴小短上短下_阴中短上短下_阳小短上短下&quot;</td><td>-0.228222</td><td>-0.74858</td><td>-0.175838</td><td>-0.497826</td><td>216</td><td>13</td><td>&quot;2024-05-22&quot;</td><td>[&quot;2016-12-09&quot;, &quot;2017-03-06&quot;, … &quot;2024-05-22&quot;]</td></tr><tr><td>&hellip;</td><td>&hellip;</td><td>&hellip;</td><td>&hellip;</td><td>&hellip;</td><td>&hellip;</td><td>&hellip;</td><td>&hellip;</td><td>&hellip;</td></tr><tr><td>&quot;缩阴大短上长下_阴大短上短下_阳小长上短下&quot;</td><td>0.236767</td><td>0.818255</td><td>0.280502</td><td>1.054515</td><td>247</td><td>13</td><td>&quot;2024-10-16&quot;</td><td>[&quot;2011-08-01&quot;, &quot;2011-12-12&quot;, … &quot;2024-10-16&quot;]</td></tr><tr><td>&quot;缩阳小长上长下_阴大长上短下_阴大短上短下&quot;</td><td>0.237685</td><td>0.871109</td><td>0.208032</td><td>0.791619</td><td>253</td><td>14</td><td>&quot;2024-12-16&quot;</td><td>[&quot;2012-06-05&quot;, &quot;2013-04-26&quot;, … &quot;2024-12-16&quot;]</td></tr><tr><td>&quot;缩阴大短上长下_阴中长上短下_阴大长上短下&quot;</td><td>0.238334</td><td>1.004837</td><td>0.225068</td><td>1.898774</td><td>236</td><td>11</td><td>&quot;2024-12-31&quot;</td><td>[&quot;2011-01-25&quot;, &quot;2011-06-17&quot;, … &quot;2024-12-31&quot;]</td></tr><tr><td>&quot;缩阴小长上长下_阴中长上短下_阴大长上短下&quot;</td><td>0.254842</td><td>0.942643</td><td>0.219922</td><td>0.999109</td><td>211</td><td>15</td><td>&quot;2024-12-18&quot;</td><td>[&quot;2011-01-18&quot;, &quot;2011-12-05&quot;, … &quot;2024-12-18&quot;]</td></tr><tr><td>&quot;缩阴小短上短下_阴小短上短下_阴大短上短下&quot;</td><td>0.276588</td><td>0.91244</td><td>0.270276</td><td>0.951764</td><td>193</td><td>14</td><td>&quot;2024-08-20&quot;</td><td>[&quot;2013-11-08&quot;, &quot;2013-12-20&quot;, … &quot;2024-08-20&quot;]</td></tr></tbody></table></div>"
      ],
      "text/plain": [
       "shape: (1_315, 9)\n",
       "┌───────────┬───────────┬───────────┬───────────┬───┬───────────┬───────────┬───────────┬──────────┐\n",
       "│ pattern   ┆ IC        ┆ ICIR      ┆ RankIC    ┆ … ┆ num_count ┆ date_coun ┆ last_date ┆ date_lis │\n",
       "│ ---       ┆ ---       ┆ ---       ┆ ---       ┆   ┆ ---       ┆ t         ┆ ---       ┆ t        │\n",
       "│ cat       ┆ f64       ┆ f64       ┆ f64       ┆   ┆ u32       ┆ ---       ┆ str       ┆ ---      │\n",
       "│           ┆           ┆           ┆           ┆   ┆           ┆ u32       ┆           ┆ list[str │\n",
       "│           ┆           ┆           ┆           ┆   ┆           ┆           ┆           ┆ ]        │\n",
       "╞═══════════╪═══════════╪═══════════╪═══════════╪═══╪═══════════╪═══════════╪═══════════╪══════════╡\n",
       "│ 常阳大长  ┆ -0.255168 ┆ -1.42275  ┆ -0.259051 ┆ … ┆ 391       ┆ 13        ┆ 2024-10-2 ┆ [\"2012-0 │\n",
       "│ 上短下_阳 ┆           ┆           ┆           ┆   ┆           ┆           ┆ 8         ┆ 3-09\",   │\n",
       "│ 大短上短  ┆           ┆           ┆           ┆   ┆           ┆           ┆           ┆ \"2015-08 │\n",
       "│ 下_阳大短 ┆           ┆           ┆           ┆   ┆           ┆           ┆           ┆ -17\", …… │\n",
       "│ 上长下    ┆           ┆           ┆           ┆   ┆           ┆           ┆           ┆          │\n",
       "│ 常阳中长  ┆ -0.24557  ┆ -0.78069  ┆ -0.22523  ┆ … ┆ 203       ┆ 13        ┆ 2024-06-2 ┆ [\"2011-0 │\n",
       "│ 上短下_阴 ┆           ┆           ┆           ┆   ┆           ┆           ┆ 4         ┆ 5-23\",   │\n",
       "│ 小长上短  ┆           ┆           ┆           ┆   ┆           ┆           ┆           ┆ \"2012-09 │\n",
       "│ 下_阴大长 ┆           ┆           ┆           ┆   ┆           ┆           ┆           ┆ -17\", …… │\n",
       "│ 上短下    ┆           ┆           ┆           ┆   ┆           ┆           ┆           ┆          │\n",
       "│ 缩阴大短  ┆ -0.24163  ┆ -0.848685 ┆ -0.183293 ┆ … ┆ 285       ┆ 14        ┆ 2022-11-0 ┆ [\"2011-0 │\n",
       "│ 上长下_阳 ┆           ┆           ┆           ┆   ┆           ┆           ┆ 7         ┆ 6-07\",   │\n",
       "│ 大短上短  ┆           ┆           ┆           ┆   ┆           ┆           ┆           ┆ \"2011-08 │\n",
       "│ 下_阳大短 ┆           ┆           ┆           ┆   ┆           ┆           ┆           ┆ -26\", …… │\n",
       "│ 上短下    ┆           ┆           ┆           ┆   ┆           ┆           ┆           ┆          │\n",
       "│ 放阳大长  ┆ -0.234003 ┆ -0.934878 ┆ -0.21516  ┆ … ┆ 215       ┆ 13        ┆ 2024-12-0 ┆ [\"2013-0 │\n",
       "│ 上长下_阳 ┆           ┆           ┆           ┆   ┆           ┆           ┆ 2         ┆ 7-03\",   │\n",
       "│ 大短上短  ┆           ┆           ┆           ┆   ┆           ┆           ┆           ┆ \"2015-05 │\n",
       "│ 下_阳大短 ┆           ┆           ┆           ┆   ┆           ┆           ┆           ┆ -26\", …… │\n",
       "│ 上长下    ┆           ┆           ┆           ┆   ┆           ┆           ┆           ┆          │\n",
       "│ 缩阴小短  ┆ -0.228222 ┆ -0.74858  ┆ -0.175838 ┆ … ┆ 216       ┆ 13        ┆ 2024-05-2 ┆ [\"2016-1 │\n",
       "│ 上短下_阴 ┆           ┆           ┆           ┆   ┆           ┆           ┆ 2         ┆ 2-09\",   │\n",
       "│ 中短上短  ┆           ┆           ┆           ┆   ┆           ┆           ┆           ┆ \"2017-03 │\n",
       "│ 下_阳小短 ┆           ┆           ┆           ┆   ┆           ┆           ┆           ┆ -06\", …… │\n",
       "│ 上短下    ┆           ┆           ┆           ┆   ┆           ┆           ┆           ┆          │\n",
       "│ …         ┆ …         ┆ …         ┆ …         ┆ … ┆ …         ┆ …         ┆ …         ┆ …        │\n",
       "│ 缩阴大短  ┆ 0.236767  ┆ 0.818255  ┆ 0.280502  ┆ … ┆ 247       ┆ 13        ┆ 2024-10-1 ┆ [\"2011-0 │\n",
       "│ 上长下_阴 ┆           ┆           ┆           ┆   ┆           ┆           ┆ 6         ┆ 8-01\",   │\n",
       "│ 大短上短  ┆           ┆           ┆           ┆   ┆           ┆           ┆           ┆ \"2011-12 │\n",
       "│ 下_阳小长 ┆           ┆           ┆           ┆   ┆           ┆           ┆           ┆ -12\", …… │\n",
       "│ 上短下    ┆           ┆           ┆           ┆   ┆           ┆           ┆           ┆          │\n",
       "│ 缩阳小长  ┆ 0.237685  ┆ 0.871109  ┆ 0.208032  ┆ … ┆ 253       ┆ 14        ┆ 2024-12-1 ┆ [\"2012-0 │\n",
       "│ 上长下_阴 ┆           ┆           ┆           ┆   ┆           ┆           ┆ 6         ┆ 6-05\",   │\n",
       "│ 大长上短  ┆           ┆           ┆           ┆   ┆           ┆           ┆           ┆ \"2013-04 │\n",
       "│ 下_阴大短 ┆           ┆           ┆           ┆   ┆           ┆           ┆           ┆ -26\", …… │\n",
       "│ 上短下    ┆           ┆           ┆           ┆   ┆           ┆           ┆           ┆          │\n",
       "│ 缩阴大短  ┆ 0.238334  ┆ 1.004837  ┆ 0.225068  ┆ … ┆ 236       ┆ 11        ┆ 2024-12-3 ┆ [\"2011-0 │\n",
       "│ 上长下_阴 ┆           ┆           ┆           ┆   ┆           ┆           ┆ 1         ┆ 1-25\",   │\n",
       "│ 中长上短  ┆           ┆           ┆           ┆   ┆           ┆           ┆           ┆ \"2011-06 │\n",
       "│ 下_阴大长 ┆           ┆           ┆           ┆   ┆           ┆           ┆           ┆ -17\", …… │\n",
       "│ 上短下    ┆           ┆           ┆           ┆   ┆           ┆           ┆           ┆          │\n",
       "│ 缩阴小长  ┆ 0.254842  ┆ 0.942643  ┆ 0.219922  ┆ … ┆ 211       ┆ 15        ┆ 2024-12-1 ┆ [\"2011-0 │\n",
       "│ 上长下_阴 ┆           ┆           ┆           ┆   ┆           ┆           ┆ 8         ┆ 1-18\",   │\n",
       "│ 中长上短  ┆           ┆           ┆           ┆   ┆           ┆           ┆           ┆ \"2011-12 │\n",
       "│ 下_阴大长 ┆           ┆           ┆           ┆   ┆           ┆           ┆           ┆ -05\", …… │\n",
       "│ 上短下    ┆           ┆           ┆           ┆   ┆           ┆           ┆           ┆          │\n",
       "│ 缩阴小短  ┆ 0.276588  ┆ 0.91244   ┆ 0.270276  ┆ … ┆ 193       ┆ 14        ┆ 2024-08-2 ┆ [\"2013-1 │\n",
       "│ 上短下_阴 ┆           ┆           ┆           ┆   ┆           ┆           ┆ 0         ┆ 1-08\",   │\n",
       "│ 小短上短  ┆           ┆           ┆           ┆   ┆           ┆           ┆           ┆ \"2013-12 │\n",
       "│ 下_阴大短 ┆           ┆           ┆           ┆   ┆           ┆           ┆           ┆ -20\", …… │\n",
       "│ 上短下    ┆           ┆           ┆           ┆   ┆           ┆           ┆           ┆          │\n",
       "└───────────┴───────────┴───────────┴───────────┴───┴───────────┴───────────┴───────────┴──────────┘"
      ]
     },
     "execution_count": 48,
     "metadata": {},
     "output_type": "execute_result"
    }
   ],
   "source": [
    "target = IC.group_by(['pattern']).agg(\n",
    "    IC = pl.col('corr').mean(),\n",
    "    ICIR = pl.col('corr').mean()/pl.col('corr').std(),\n",
    "    RankIC = pl.col('spr_corr').mean(),\n",
    "    RankICIR = pl.col('spr_corr').mean()/pl.col('spr_corr').std(),\n",
    "    num_count = pl.col(\"count\").sum(),\n",
    "    date_count = pl.col(\"count\").count(),\n",
    "    last_date = pl.col('date').last(),\n",
    "    date_list = pl.col('date')\n",
    ").sort('IC').filter(pl.col('num_count')>100).filter(pl.col('date_count')>10)#.tail(20)\n",
    "target"
   ]
  },
  {
   "cell_type": "code",
   "execution_count": 49,
   "metadata": {},
   "outputs": [
    {
     "data": {
      "text/html": [
       "<div><style>\n",
       ".dataframe > thead > tr,\n",
       ".dataframe > tbody > tr {\n",
       "  text-align: right;\n",
       "  white-space: pre-wrap;\n",
       "}\n",
       "</style>\n",
       "<small>shape: (10, 9)</small><table border=\"1\" class=\"dataframe\"><thead><tr><th>pattern</th><th>IC</th><th>ICIR</th><th>RankIC</th><th>RankICIR</th><th>num_count</th><th>date_count</th><th>last_date</th><th>date_list</th></tr><tr><td>cat</td><td>f64</td><td>f64</td><td>f64</td><td>f64</td><td>u32</td><td>u32</td><td>str</td><td>list[str]</td></tr></thead><tbody><tr><td>&quot;常阳大长上短下_阳大短上短下_阳大短上长下&quot;</td><td>-0.255168</td><td>-1.42275</td><td>-0.259051</td><td>-1.210524</td><td>391</td><td>13</td><td>&quot;2024-10-28&quot;</td><td>[&quot;2012-03-09&quot;, &quot;2015-08-17&quot;, … &quot;2024-10-28&quot;]</td></tr><tr><td>&quot;常阳中长上短下_阴小长上短下_阴大长上短下&quot;</td><td>-0.24557</td><td>-0.78069</td><td>-0.22523</td><td>-0.721194</td><td>203</td><td>13</td><td>&quot;2024-06-24&quot;</td><td>[&quot;2011-05-23&quot;, &quot;2012-09-17&quot;, … &quot;2024-06-24&quot;]</td></tr><tr><td>&quot;缩阴大短上长下_阳大短上短下_阳大短上短下&quot;</td><td>-0.24163</td><td>-0.848685</td><td>-0.183293</td><td>-0.804873</td><td>285</td><td>14</td><td>&quot;2022-11-07&quot;</td><td>[&quot;2011-06-07&quot;, &quot;2011-08-26&quot;, … &quot;2022-11-07&quot;]</td></tr><tr><td>&quot;放阳大长上长下_阳大短上短下_阳大短上长下&quot;</td><td>-0.234003</td><td>-0.934878</td><td>-0.21516</td><td>-0.963023</td><td>215</td><td>13</td><td>&quot;2024-12-02&quot;</td><td>[&quot;2013-07-03&quot;, &quot;2015-05-26&quot;, … &quot;2024-12-02&quot;]</td></tr><tr><td>&quot;缩阴小短上短下_阴中短上短下_阳小短上短下&quot;</td><td>-0.228222</td><td>-0.74858</td><td>-0.175838</td><td>-0.497826</td><td>216</td><td>13</td><td>&quot;2024-05-22&quot;</td><td>[&quot;2016-12-09&quot;, &quot;2017-03-06&quot;, … &quot;2024-05-22&quot;]</td></tr><tr><td>&quot;缩阳大长上短下_阳大长上长下_阳大长上长下&quot;</td><td>-0.225761</td><td>-1.011233</td><td>-0.186967</td><td>-0.987749</td><td>321</td><td>12</td><td>&quot;2024-04-25&quot;</td><td>[&quot;2015-07-17&quot;, &quot;2015-09-09&quot;, … &quot;2024-04-25&quot;]</td></tr><tr><td>&quot;常阳大长上短下_阳大长上短下_阳大短上长下&quot;</td><td>-0.214971</td><td>-0.701138</td><td>-0.124666</td><td>-0.434716</td><td>406</td><td>18</td><td>&quot;2024-10-28&quot;</td><td>[&quot;2014-02-17&quot;, &quot;2015-04-10&quot;, … &quot;2024-10-28&quot;]</td></tr><tr><td>&quot;缩阴大短上长下_阴小长上长下_阴小短上长下&quot;</td><td>-0.212188</td><td>-0.633092</td><td>-0.12017</td><td>-0.414298</td><td>242</td><td>15</td><td>&quot;2025-01-09&quot;</td><td>[&quot;2011-01-28&quot;, &quot;2013-07-02&quot;, … &quot;2025-01-09&quot;]</td></tr><tr><td>&quot;放阴小长上长下_阳大短上长下_阳大长上长下&quot;</td><td>-0.209564</td><td>-0.760808</td><td>-0.156513</td><td>-0.593858</td><td>309</td><td>19</td><td>&quot;2025-01-15&quot;</td><td>[&quot;2015-04-13&quot;, &quot;2015-05-12&quot;, … &quot;2025-01-15&quot;]</td></tr><tr><td>&quot;常阳大长上长下_阳大短上长下_阳大长上长下&quot;</td><td>-0.205039</td><td>-0.71854</td><td>-0.197296</td><td>-0.651484</td><td>417</td><td>22</td><td>&quot;2024-12-03&quot;</td><td>[&quot;2015-01-23&quot;, &quot;2015-04-24&quot;, … &quot;2024-12-03&quot;]</td></tr></tbody></table></div>"
      ],
      "text/plain": [
       "shape: (10, 9)\n",
       "┌───────────┬───────────┬───────────┬───────────┬───┬───────────┬───────────┬───────────┬──────────┐\n",
       "│ pattern   ┆ IC        ┆ ICIR      ┆ RankIC    ┆ … ┆ num_count ┆ date_coun ┆ last_date ┆ date_lis │\n",
       "│ ---       ┆ ---       ┆ ---       ┆ ---       ┆   ┆ ---       ┆ t         ┆ ---       ┆ t        │\n",
       "│ cat       ┆ f64       ┆ f64       ┆ f64       ┆   ┆ u32       ┆ ---       ┆ str       ┆ ---      │\n",
       "│           ┆           ┆           ┆           ┆   ┆           ┆ u32       ┆           ┆ list[str │\n",
       "│           ┆           ┆           ┆           ┆   ┆           ┆           ┆           ┆ ]        │\n",
       "╞═══════════╪═══════════╪═══════════╪═══════════╪═══╪═══════════╪═══════════╪═══════════╪══════════╡\n",
       "│ 常阳大长  ┆ -0.255168 ┆ -1.42275  ┆ -0.259051 ┆ … ┆ 391       ┆ 13        ┆ 2024-10-2 ┆ [\"2012-0 │\n",
       "│ 上短下_阳 ┆           ┆           ┆           ┆   ┆           ┆           ┆ 8         ┆ 3-09\",   │\n",
       "│ 大短上短  ┆           ┆           ┆           ┆   ┆           ┆           ┆           ┆ \"2015-08 │\n",
       "│ 下_阳大短 ┆           ┆           ┆           ┆   ┆           ┆           ┆           ┆ -17\", …… │\n",
       "│ 上长下    ┆           ┆           ┆           ┆   ┆           ┆           ┆           ┆          │\n",
       "│ 常阳中长  ┆ -0.24557  ┆ -0.78069  ┆ -0.22523  ┆ … ┆ 203       ┆ 13        ┆ 2024-06-2 ┆ [\"2011-0 │\n",
       "│ 上短下_阴 ┆           ┆           ┆           ┆   ┆           ┆           ┆ 4         ┆ 5-23\",   │\n",
       "│ 小长上短  ┆           ┆           ┆           ┆   ┆           ┆           ┆           ┆ \"2012-09 │\n",
       "│ 下_阴大长 ┆           ┆           ┆           ┆   ┆           ┆           ┆           ┆ -17\", …… │\n",
       "│ 上短下    ┆           ┆           ┆           ┆   ┆           ┆           ┆           ┆          │\n",
       "│ 缩阴大短  ┆ -0.24163  ┆ -0.848685 ┆ -0.183293 ┆ … ┆ 285       ┆ 14        ┆ 2022-11-0 ┆ [\"2011-0 │\n",
       "│ 上长下_阳 ┆           ┆           ┆           ┆   ┆           ┆           ┆ 7         ┆ 6-07\",   │\n",
       "│ 大短上短  ┆           ┆           ┆           ┆   ┆           ┆           ┆           ┆ \"2011-08 │\n",
       "│ 下_阳大短 ┆           ┆           ┆           ┆   ┆           ┆           ┆           ┆ -26\", …… │\n",
       "│ 上短下    ┆           ┆           ┆           ┆   ┆           ┆           ┆           ┆          │\n",
       "│ 放阳大长  ┆ -0.234003 ┆ -0.934878 ┆ -0.21516  ┆ … ┆ 215       ┆ 13        ┆ 2024-12-0 ┆ [\"2013-0 │\n",
       "│ 上长下_阳 ┆           ┆           ┆           ┆   ┆           ┆           ┆ 2         ┆ 7-03\",   │\n",
       "│ 大短上短  ┆           ┆           ┆           ┆   ┆           ┆           ┆           ┆ \"2015-05 │\n",
       "│ 下_阳大短 ┆           ┆           ┆           ┆   ┆           ┆           ┆           ┆ -26\", …… │\n",
       "│ 上长下    ┆           ┆           ┆           ┆   ┆           ┆           ┆           ┆          │\n",
       "│ 缩阴小短  ┆ -0.228222 ┆ -0.74858  ┆ -0.175838 ┆ … ┆ 216       ┆ 13        ┆ 2024-05-2 ┆ [\"2016-1 │\n",
       "│ 上短下_阴 ┆           ┆           ┆           ┆   ┆           ┆           ┆ 2         ┆ 2-09\",   │\n",
       "│ 中短上短  ┆           ┆           ┆           ┆   ┆           ┆           ┆           ┆ \"2017-03 │\n",
       "│ 下_阳小短 ┆           ┆           ┆           ┆   ┆           ┆           ┆           ┆ -06\", …… │\n",
       "│ 上短下    ┆           ┆           ┆           ┆   ┆           ┆           ┆           ┆          │\n",
       "│ 缩阳大长  ┆ -0.225761 ┆ -1.011233 ┆ -0.186967 ┆ … ┆ 321       ┆ 12        ┆ 2024-04-2 ┆ [\"2015-0 │\n",
       "│ 上短下_阳 ┆           ┆           ┆           ┆   ┆           ┆           ┆ 5         ┆ 7-17\",   │\n",
       "│ 大长上长  ┆           ┆           ┆           ┆   ┆           ┆           ┆           ┆ \"2015-09 │\n",
       "│ 下_阳大长 ┆           ┆           ┆           ┆   ┆           ┆           ┆           ┆ -09\", …… │\n",
       "│ 上长下    ┆           ┆           ┆           ┆   ┆           ┆           ┆           ┆          │\n",
       "│ 常阳大长  ┆ -0.214971 ┆ -0.701138 ┆ -0.124666 ┆ … ┆ 406       ┆ 18        ┆ 2024-10-2 ┆ [\"2014-0 │\n",
       "│ 上短下_阳 ┆           ┆           ┆           ┆   ┆           ┆           ┆ 8         ┆ 2-17\",   │\n",
       "│ 大长上短  ┆           ┆           ┆           ┆   ┆           ┆           ┆           ┆ \"2015-04 │\n",
       "│ 下_阳大短 ┆           ┆           ┆           ┆   ┆           ┆           ┆           ┆ -10\", …… │\n",
       "│ 上长下    ┆           ┆           ┆           ┆   ┆           ┆           ┆           ┆          │\n",
       "│ 缩阴大短  ┆ -0.212188 ┆ -0.633092 ┆ -0.12017  ┆ … ┆ 242       ┆ 15        ┆ 2025-01-0 ┆ [\"2011-0 │\n",
       "│ 上长下_阴 ┆           ┆           ┆           ┆   ┆           ┆           ┆ 9         ┆ 1-28\",   │\n",
       "│ 小长上长  ┆           ┆           ┆           ┆   ┆           ┆           ┆           ┆ \"2013-07 │\n",
       "│ 下_阴小短 ┆           ┆           ┆           ┆   ┆           ┆           ┆           ┆ -02\", …… │\n",
       "│ 上长下    ┆           ┆           ┆           ┆   ┆           ┆           ┆           ┆          │\n",
       "│ 放阴小长  ┆ -0.209564 ┆ -0.760808 ┆ -0.156513 ┆ … ┆ 309       ┆ 19        ┆ 2025-01-1 ┆ [\"2015-0 │\n",
       "│ 上长下_阳 ┆           ┆           ┆           ┆   ┆           ┆           ┆ 5         ┆ 4-13\",   │\n",
       "│ 大短上长  ┆           ┆           ┆           ┆   ┆           ┆           ┆           ┆ \"2015-05 │\n",
       "│ 下_阳大长 ┆           ┆           ┆           ┆   ┆           ┆           ┆           ┆ -12\", …… │\n",
       "│ 上长下    ┆           ┆           ┆           ┆   ┆           ┆           ┆           ┆          │\n",
       "│ 常阳大长  ┆ -0.205039 ┆ -0.71854  ┆ -0.197296 ┆ … ┆ 417       ┆ 22        ┆ 2024-12-0 ┆ [\"2015-0 │\n",
       "│ 上长下_阳 ┆           ┆           ┆           ┆   ┆           ┆           ┆ 3         ┆ 1-23\",   │\n",
       "│ 大短上长  ┆           ┆           ┆           ┆   ┆           ┆           ┆           ┆ \"2015-04 │\n",
       "│ 下_阳大长 ┆           ┆           ┆           ┆   ┆           ┆           ┆           ┆ -24\", …… │\n",
       "│ 上长下    ┆           ┆           ┆           ┆   ┆           ┆           ┆           ┆          │\n",
       "└───────────┴───────────┴───────────┴───────────┴───┴───────────┴───────────┴───────────┴──────────┘"
      ]
     },
     "execution_count": 49,
     "metadata": {},
     "output_type": "execute_result"
    }
   ],
   "source": [
    "target.head(10)"
   ]
  },
  {
   "cell_type": "code",
   "execution_count": 50,
   "metadata": {},
   "outputs": [
    {
     "data": {
      "text/html": [
       "<div><style>\n",
       ".dataframe > thead > tr,\n",
       ".dataframe > tbody > tr {\n",
       "  text-align: right;\n",
       "  white-space: pre-wrap;\n",
       "}\n",
       "</style>\n",
       "<small>shape: (10, 9)</small><table border=\"1\" class=\"dataframe\"><thead><tr><th>pattern</th><th>IC</th><th>ICIR</th><th>RankIC</th><th>RankICIR</th><th>num_count</th><th>date_count</th><th>last_date</th><th>date_list</th></tr><tr><td>cat</td><td>f64</td><td>f64</td><td>f64</td><td>f64</td><td>u32</td><td>u32</td><td>str</td><td>list[str]</td></tr></thead><tbody><tr><td>&quot;缩阳小长上短下_阳小长上短下_阴大长上短下&quot;</td><td>0.213921</td><td>0.73527</td><td>0.176849</td><td>0.639108</td><td>155</td><td>11</td><td>&quot;2024-11-01&quot;</td><td>[&quot;2011-11-21&quot;, &quot;2012-11-08&quot;, … &quot;2024-11-01&quot;]</td></tr><tr><td>&quot;缩阴中长上长下_阴大长上长下_阴大短上短下&quot;</td><td>0.217977</td><td>0.711237</td><td>0.142847</td><td>0.477171</td><td>242</td><td>14</td><td>&quot;2024-08-08&quot;</td><td>[&quot;2011-12-27&quot;, &quot;2015-04-20&quot;, … &quot;2024-08-08&quot;]</td></tr><tr><td>&quot;放阴大长上长下_阴大长上短下_阴大长上长下&quot;</td><td>0.225032</td><td>0.873482</td><td>0.148514</td><td>0.584876</td><td>221</td><td>11</td><td>&quot;2024-04-17&quot;</td><td>[&quot;2013-06-25&quot;, &quot;2015-07-08&quot;, … &quot;2024-04-17&quot;]</td></tr><tr><td>&quot;缩阴中短上长下_阴中短上短下_阴小短上短下&quot;</td><td>0.225644</td><td>1.010188</td><td>0.172554</td><td>0.892912</td><td>197</td><td>13</td><td>&quot;2024-08-28&quot;</td><td>[&quot;2011-09-09&quot;, &quot;2012-11-23&quot;, … &quot;2024-08-28&quot;]</td></tr><tr><td>&quot;缩阳大长上短下_阴小长上长下_阴大长上短下&quot;</td><td>0.231368</td><td>0.92838</td><td>0.204403</td><td>0.787426</td><td>177</td><td>11</td><td>&quot;2025-01-22&quot;</td><td>[&quot;2015-07-27&quot;, &quot;2015-09-29&quot;, … &quot;2025-01-22&quot;]</td></tr><tr><td>&quot;缩阴大短上长下_阴大短上短下_阳小长上短下&quot;</td><td>0.236767</td><td>0.818255</td><td>0.280502</td><td>1.054515</td><td>247</td><td>13</td><td>&quot;2024-10-16&quot;</td><td>[&quot;2011-08-01&quot;, &quot;2011-12-12&quot;, … &quot;2024-10-16&quot;]</td></tr><tr><td>&quot;缩阳小长上长下_阴大长上短下_阴大短上短下&quot;</td><td>0.237685</td><td>0.871109</td><td>0.208032</td><td>0.791619</td><td>253</td><td>14</td><td>&quot;2024-12-16&quot;</td><td>[&quot;2012-06-05&quot;, &quot;2013-04-26&quot;, … &quot;2024-12-16&quot;]</td></tr><tr><td>&quot;缩阴大短上长下_阴中长上短下_阴大长上短下&quot;</td><td>0.238334</td><td>1.004837</td><td>0.225068</td><td>1.898774</td><td>236</td><td>11</td><td>&quot;2024-12-31&quot;</td><td>[&quot;2011-01-25&quot;, &quot;2011-06-17&quot;, … &quot;2024-12-31&quot;]</td></tr><tr><td>&quot;缩阴小长上长下_阴中长上短下_阴大长上短下&quot;</td><td>0.254842</td><td>0.942643</td><td>0.219922</td><td>0.999109</td><td>211</td><td>15</td><td>&quot;2024-12-18&quot;</td><td>[&quot;2011-01-18&quot;, &quot;2011-12-05&quot;, … &quot;2024-12-18&quot;]</td></tr><tr><td>&quot;缩阴小短上短下_阴小短上短下_阴大短上短下&quot;</td><td>0.276588</td><td>0.91244</td><td>0.270276</td><td>0.951764</td><td>193</td><td>14</td><td>&quot;2024-08-20&quot;</td><td>[&quot;2013-11-08&quot;, &quot;2013-12-20&quot;, … &quot;2024-08-20&quot;]</td></tr></tbody></table></div>"
      ],
      "text/plain": [
       "shape: (10, 9)\n",
       "┌────────────┬──────────┬──────────┬──────────┬───┬───────────┬────────────┬───────────┬───────────┐\n",
       "│ pattern    ┆ IC       ┆ ICIR     ┆ RankIC   ┆ … ┆ num_count ┆ date_count ┆ last_date ┆ date_list │\n",
       "│ ---        ┆ ---      ┆ ---      ┆ ---      ┆   ┆ ---       ┆ ---        ┆ ---       ┆ ---       │\n",
       "│ cat        ┆ f64      ┆ f64      ┆ f64      ┆   ┆ u32       ┆ u32        ┆ str       ┆ list[str] │\n",
       "╞════════════╪══════════╪══════════╪══════════╪═══╪═══════════╪════════════╪═══════════╪═══════════╡\n",
       "│ 缩阳小长上 ┆ 0.213921 ┆ 0.73527  ┆ 0.176849 ┆ … ┆ 155       ┆ 11         ┆ 2024-11-0 ┆ [\"2011-11 │\n",
       "│ 短下_阳小  ┆          ┆          ┆          ┆   ┆           ┆            ┆ 1         ┆ -21\", \"20 │\n",
       "│ 长上短下_  ┆          ┆          ┆          ┆   ┆           ┆            ┆           ┆ 12-11-08\" │\n",
       "│ 阴大长上短 ┆          ┆          ┆          ┆   ┆           ┆            ┆           ┆ , ……      │\n",
       "│ 下         ┆          ┆          ┆          ┆   ┆           ┆            ┆           ┆           │\n",
       "│ 缩阴中长上 ┆ 0.217977 ┆ 0.711237 ┆ 0.142847 ┆ … ┆ 242       ┆ 14         ┆ 2024-08-0 ┆ [\"2011-12 │\n",
       "│ 长下_阴大  ┆          ┆          ┆          ┆   ┆           ┆            ┆ 8         ┆ -27\", \"20 │\n",
       "│ 长上长下_  ┆          ┆          ┆          ┆   ┆           ┆            ┆           ┆ 15-04-20\" │\n",
       "│ 阴大短上短 ┆          ┆          ┆          ┆   ┆           ┆            ┆           ┆ , ……      │\n",
       "│ 下         ┆          ┆          ┆          ┆   ┆           ┆            ┆           ┆           │\n",
       "│ 放阴大长上 ┆ 0.225032 ┆ 0.873482 ┆ 0.148514 ┆ … ┆ 221       ┆ 11         ┆ 2024-04-1 ┆ [\"2013-06 │\n",
       "│ 长下_阴大  ┆          ┆          ┆          ┆   ┆           ┆            ┆ 7         ┆ -25\", \"20 │\n",
       "│ 长上短下_  ┆          ┆          ┆          ┆   ┆           ┆            ┆           ┆ 15-07-08\" │\n",
       "│ 阴大长上长 ┆          ┆          ┆          ┆   ┆           ┆            ┆           ┆ , ……      │\n",
       "│ 下         ┆          ┆          ┆          ┆   ┆           ┆            ┆           ┆           │\n",
       "│ 缩阴中短上 ┆ 0.225644 ┆ 1.010188 ┆ 0.172554 ┆ … ┆ 197       ┆ 13         ┆ 2024-08-2 ┆ [\"2011-09 │\n",
       "│ 长下_阴中  ┆          ┆          ┆          ┆   ┆           ┆            ┆ 8         ┆ -09\", \"20 │\n",
       "│ 短上短下_  ┆          ┆          ┆          ┆   ┆           ┆            ┆           ┆ 12-11-23\" │\n",
       "│ 阴小短上短 ┆          ┆          ┆          ┆   ┆           ┆            ┆           ┆ , ……      │\n",
       "│ 下         ┆          ┆          ┆          ┆   ┆           ┆            ┆           ┆           │\n",
       "│ 缩阳大长上 ┆ 0.231368 ┆ 0.92838  ┆ 0.204403 ┆ … ┆ 177       ┆ 11         ┆ 2025-01-2 ┆ [\"2015-07 │\n",
       "│ 短下_阴小  ┆          ┆          ┆          ┆   ┆           ┆            ┆ 2         ┆ -27\", \"20 │\n",
       "│ 长上长下_  ┆          ┆          ┆          ┆   ┆           ┆            ┆           ┆ 15-09-29\" │\n",
       "│ 阴大长上短 ┆          ┆          ┆          ┆   ┆           ┆            ┆           ┆ , ……      │\n",
       "│ 下         ┆          ┆          ┆          ┆   ┆           ┆            ┆           ┆           │\n",
       "│ 缩阴大短上 ┆ 0.236767 ┆ 0.818255 ┆ 0.280502 ┆ … ┆ 247       ┆ 13         ┆ 2024-10-1 ┆ [\"2011-08 │\n",
       "│ 长下_阴大  ┆          ┆          ┆          ┆   ┆           ┆            ┆ 6         ┆ -01\", \"20 │\n",
       "│ 短上短下_  ┆          ┆          ┆          ┆   ┆           ┆            ┆           ┆ 11-12-12\" │\n",
       "│ 阳小长上短 ┆          ┆          ┆          ┆   ┆           ┆            ┆           ┆ , ……      │\n",
       "│ 下         ┆          ┆          ┆          ┆   ┆           ┆            ┆           ┆           │\n",
       "│ 缩阳小长上 ┆ 0.237685 ┆ 0.871109 ┆ 0.208032 ┆ … ┆ 253       ┆ 14         ┆ 2024-12-1 ┆ [\"2012-06 │\n",
       "│ 长下_阴大  ┆          ┆          ┆          ┆   ┆           ┆            ┆ 6         ┆ -05\", \"20 │\n",
       "│ 长上短下_  ┆          ┆          ┆          ┆   ┆           ┆            ┆           ┆ 13-04-26\" │\n",
       "│ 阴大短上短 ┆          ┆          ┆          ┆   ┆           ┆            ┆           ┆ , ……      │\n",
       "│ 下         ┆          ┆          ┆          ┆   ┆           ┆            ┆           ┆           │\n",
       "│ 缩阴大短上 ┆ 0.238334 ┆ 1.004837 ┆ 0.225068 ┆ … ┆ 236       ┆ 11         ┆ 2024-12-3 ┆ [\"2011-01 │\n",
       "│ 长下_阴中  ┆          ┆          ┆          ┆   ┆           ┆            ┆ 1         ┆ -25\", \"20 │\n",
       "│ 长上短下_  ┆          ┆          ┆          ┆   ┆           ┆            ┆           ┆ 11-06-17\" │\n",
       "│ 阴大长上短 ┆          ┆          ┆          ┆   ┆           ┆            ┆           ┆ , ……      │\n",
       "│ 下         ┆          ┆          ┆          ┆   ┆           ┆            ┆           ┆           │\n",
       "│ 缩阴小长上 ┆ 0.254842 ┆ 0.942643 ┆ 0.219922 ┆ … ┆ 211       ┆ 15         ┆ 2024-12-1 ┆ [\"2011-01 │\n",
       "│ 长下_阴中  ┆          ┆          ┆          ┆   ┆           ┆            ┆ 8         ┆ -18\", \"20 │\n",
       "│ 长上短下_  ┆          ┆          ┆          ┆   ┆           ┆            ┆           ┆ 11-12-05\" │\n",
       "│ 阴大长上短 ┆          ┆          ┆          ┆   ┆           ┆            ┆           ┆ , ……      │\n",
       "│ 下         ┆          ┆          ┆          ┆   ┆           ┆            ┆           ┆           │\n",
       "│ 缩阴小短上 ┆ 0.276588 ┆ 0.91244  ┆ 0.270276 ┆ … ┆ 193       ┆ 14         ┆ 2024-08-2 ┆ [\"2013-11 │\n",
       "│ 短下_阴小  ┆          ┆          ┆          ┆   ┆           ┆            ┆ 0         ┆ -08\", \"20 │\n",
       "│ 短上短下_  ┆          ┆          ┆          ┆   ┆           ┆            ┆           ┆ 13-12-20\" │\n",
       "│ 阴大短上短 ┆          ┆          ┆          ┆   ┆           ┆            ┆           ┆ , ……      │\n",
       "│ 下         ┆          ┆          ┆          ┆   ┆           ┆            ┆           ┆           │\n",
       "└────────────┴──────────┴──────────┴──────────┴───┴───────────┴────────────┴───────────┴───────────┘"
      ]
     },
     "execution_count": 50,
     "metadata": {},
     "output_type": "execute_result"
    }
   ],
   "source": [
    "target.tail(10)"
   ]
  },
  {
   "cell_type": "code",
   "execution_count": 51,
   "metadata": {},
   "outputs": [
    {
     "data": {
      "text/html": [
       "<div><style>\n",
       ".dataframe > thead > tr,\n",
       ".dataframe > tbody > tr {\n",
       "  text-align: right;\n",
       "  white-space: pre-wrap;\n",
       "}\n",
       "</style>\n",
       "<small>shape: (1_315, 9)</small><table border=\"1\" class=\"dataframe\"><thead><tr><th>pattern</th><th>IC</th><th>ICIR</th><th>RankIC</th><th>RankICIR</th><th>num_count</th><th>date_count</th><th>last_date</th><th>date_list</th></tr><tr><td>cat</td><td>f64</td><td>f64</td><td>f64</td><td>f64</td><td>u32</td><td>u32</td><td>str</td><td>list[str]</td></tr></thead><tbody><tr><td>&quot;常阳大长上短下_阳大短上短下_阳大短上长下&quot;</td><td>-0.255168</td><td>-1.42275</td><td>-0.259051</td><td>-1.210524</td><td>391</td><td>13</td><td>&quot;2024-10-28&quot;</td><td>[&quot;2012-03-09&quot;, &quot;2015-08-17&quot;, … &quot;2024-10-28&quot;]</td></tr><tr><td>&quot;常阳中长上短下_阴小长上短下_阴大长上短下&quot;</td><td>-0.24557</td><td>-0.78069</td><td>-0.22523</td><td>-0.721194</td><td>203</td><td>13</td><td>&quot;2024-06-24&quot;</td><td>[&quot;2011-05-23&quot;, &quot;2012-09-17&quot;, … &quot;2024-06-24&quot;]</td></tr><tr><td>&quot;放阳大长上长下_阳大短上短下_阳大短上长下&quot;</td><td>-0.234003</td><td>-0.934878</td><td>-0.21516</td><td>-0.963023</td><td>215</td><td>13</td><td>&quot;2024-12-02&quot;</td><td>[&quot;2013-07-03&quot;, &quot;2015-05-26&quot;, … &quot;2024-12-02&quot;]</td></tr><tr><td>&quot;放阴小长上短下_阴大短上短下_阴大短上短下&quot;</td><td>-0.11611</td><td>-0.41026</td><td>-0.213415</td><td>-0.936274</td><td>184</td><td>11</td><td>&quot;2024-01-09&quot;</td><td>[&quot;2011-10-20&quot;, &quot;2017-11-17&quot;, … &quot;2024-01-09&quot;]</td></tr><tr><td>&quot;常阴小长上短下_阴中短上短下_阴中短上短下&quot;</td><td>-0.187558</td><td>-0.600731</td><td>-0.207476</td><td>-0.738963</td><td>167</td><td>12</td><td>&quot;2025-01-27&quot;</td><td>[&quot;2016-11-01&quot;, &quot;2017-02-17&quot;, … &quot;2025-01-27&quot;]</td></tr><tr><td>&hellip;</td><td>&hellip;</td><td>&hellip;</td><td>&hellip;</td><td>&hellip;</td><td>&hellip;</td><td>&hellip;</td><td>&hellip;</td><td>&hellip;</td></tr><tr><td>&quot;缩阳小长上长下_阴大长上短下_阴大短上短下&quot;</td><td>0.237685</td><td>0.871109</td><td>0.208032</td><td>0.791619</td><td>253</td><td>14</td><td>&quot;2024-12-16&quot;</td><td>[&quot;2012-06-05&quot;, &quot;2013-04-26&quot;, … &quot;2024-12-16&quot;]</td></tr><tr><td>&quot;缩阴小长上长下_阴中长上短下_阴大长上短下&quot;</td><td>0.254842</td><td>0.942643</td><td>0.219922</td><td>0.999109</td><td>211</td><td>15</td><td>&quot;2024-12-18&quot;</td><td>[&quot;2011-01-18&quot;, &quot;2011-12-05&quot;, … &quot;2024-12-18&quot;]</td></tr><tr><td>&quot;缩阴大短上长下_阴中长上短下_阴大长上短下&quot;</td><td>0.238334</td><td>1.004837</td><td>0.225068</td><td>1.898774</td><td>236</td><td>11</td><td>&quot;2024-12-31&quot;</td><td>[&quot;2011-01-25&quot;, &quot;2011-06-17&quot;, … &quot;2024-12-31&quot;]</td></tr><tr><td>&quot;缩阴小短上短下_阴小短上短下_阴大短上短下&quot;</td><td>0.276588</td><td>0.91244</td><td>0.270276</td><td>0.951764</td><td>193</td><td>14</td><td>&quot;2024-08-20&quot;</td><td>[&quot;2013-11-08&quot;, &quot;2013-12-20&quot;, … &quot;2024-08-20&quot;]</td></tr><tr><td>&quot;缩阴大短上长下_阴大短上短下_阳小长上短下&quot;</td><td>0.236767</td><td>0.818255</td><td>0.280502</td><td>1.054515</td><td>247</td><td>13</td><td>&quot;2024-10-16&quot;</td><td>[&quot;2011-08-01&quot;, &quot;2011-12-12&quot;, … &quot;2024-10-16&quot;]</td></tr></tbody></table></div>"
      ],
      "text/plain": [
       "shape: (1_315, 9)\n",
       "┌───────────┬───────────┬───────────┬───────────┬───┬───────────┬───────────┬───────────┬──────────┐\n",
       "│ pattern   ┆ IC        ┆ ICIR      ┆ RankIC    ┆ … ┆ num_count ┆ date_coun ┆ last_date ┆ date_lis │\n",
       "│ ---       ┆ ---       ┆ ---       ┆ ---       ┆   ┆ ---       ┆ t         ┆ ---       ┆ t        │\n",
       "│ cat       ┆ f64       ┆ f64       ┆ f64       ┆   ┆ u32       ┆ ---       ┆ str       ┆ ---      │\n",
       "│           ┆           ┆           ┆           ┆   ┆           ┆ u32       ┆           ┆ list[str │\n",
       "│           ┆           ┆           ┆           ┆   ┆           ┆           ┆           ┆ ]        │\n",
       "╞═══════════╪═══════════╪═══════════╪═══════════╪═══╪═══════════╪═══════════╪═══════════╪══════════╡\n",
       "│ 常阳大长  ┆ -0.255168 ┆ -1.42275  ┆ -0.259051 ┆ … ┆ 391       ┆ 13        ┆ 2024-10-2 ┆ [\"2012-0 │\n",
       "│ 上短下_阳 ┆           ┆           ┆           ┆   ┆           ┆           ┆ 8         ┆ 3-09\",   │\n",
       "│ 大短上短  ┆           ┆           ┆           ┆   ┆           ┆           ┆           ┆ \"2015-08 │\n",
       "│ 下_阳大短 ┆           ┆           ┆           ┆   ┆           ┆           ┆           ┆ -17\", …… │\n",
       "│ 上长下    ┆           ┆           ┆           ┆   ┆           ┆           ┆           ┆          │\n",
       "│ 常阳中长  ┆ -0.24557  ┆ -0.78069  ┆ -0.22523  ┆ … ┆ 203       ┆ 13        ┆ 2024-06-2 ┆ [\"2011-0 │\n",
       "│ 上短下_阴 ┆           ┆           ┆           ┆   ┆           ┆           ┆ 4         ┆ 5-23\",   │\n",
       "│ 小长上短  ┆           ┆           ┆           ┆   ┆           ┆           ┆           ┆ \"2012-09 │\n",
       "│ 下_阴大长 ┆           ┆           ┆           ┆   ┆           ┆           ┆           ┆ -17\", …… │\n",
       "│ 上短下    ┆           ┆           ┆           ┆   ┆           ┆           ┆           ┆          │\n",
       "│ 放阳大长  ┆ -0.234003 ┆ -0.934878 ┆ -0.21516  ┆ … ┆ 215       ┆ 13        ┆ 2024-12-0 ┆ [\"2013-0 │\n",
       "│ 上长下_阳 ┆           ┆           ┆           ┆   ┆           ┆           ┆ 2         ┆ 7-03\",   │\n",
       "│ 大短上短  ┆           ┆           ┆           ┆   ┆           ┆           ┆           ┆ \"2015-05 │\n",
       "│ 下_阳大短 ┆           ┆           ┆           ┆   ┆           ┆           ┆           ┆ -26\", …… │\n",
       "│ 上长下    ┆           ┆           ┆           ┆   ┆           ┆           ┆           ┆          │\n",
       "│ 放阴小长  ┆ -0.11611  ┆ -0.41026  ┆ -0.213415 ┆ … ┆ 184       ┆ 11        ┆ 2024-01-0 ┆ [\"2011-1 │\n",
       "│ 上短下_阴 ┆           ┆           ┆           ┆   ┆           ┆           ┆ 9         ┆ 0-20\",   │\n",
       "│ 大短上短  ┆           ┆           ┆           ┆   ┆           ┆           ┆           ┆ \"2017-11 │\n",
       "│ 下_阴大短 ┆           ┆           ┆           ┆   ┆           ┆           ┆           ┆ -17\", …… │\n",
       "│ 上短下    ┆           ┆           ┆           ┆   ┆           ┆           ┆           ┆          │\n",
       "│ 常阴小长  ┆ -0.187558 ┆ -0.600731 ┆ -0.207476 ┆ … ┆ 167       ┆ 12        ┆ 2025-01-2 ┆ [\"2016-1 │\n",
       "│ 上短下_阴 ┆           ┆           ┆           ┆   ┆           ┆           ┆ 7         ┆ 1-01\",   │\n",
       "│ 中短上短  ┆           ┆           ┆           ┆   ┆           ┆           ┆           ┆ \"2017-02 │\n",
       "│ 下_阴中短 ┆           ┆           ┆           ┆   ┆           ┆           ┆           ┆ -17\", …… │\n",
       "│ 上短下    ┆           ┆           ┆           ┆   ┆           ┆           ┆           ┆          │\n",
       "│ …         ┆ …         ┆ …         ┆ …         ┆ … ┆ …         ┆ …         ┆ …         ┆ …        │\n",
       "│ 缩阳小长  ┆ 0.237685  ┆ 0.871109  ┆ 0.208032  ┆ … ┆ 253       ┆ 14        ┆ 2024-12-1 ┆ [\"2012-0 │\n",
       "│ 上长下_阴 ┆           ┆           ┆           ┆   ┆           ┆           ┆ 6         ┆ 6-05\",   │\n",
       "│ 大长上短  ┆           ┆           ┆           ┆   ┆           ┆           ┆           ┆ \"2013-04 │\n",
       "│ 下_阴大短 ┆           ┆           ┆           ┆   ┆           ┆           ┆           ┆ -26\", …… │\n",
       "│ 上短下    ┆           ┆           ┆           ┆   ┆           ┆           ┆           ┆          │\n",
       "│ 缩阴小长  ┆ 0.254842  ┆ 0.942643  ┆ 0.219922  ┆ … ┆ 211       ┆ 15        ┆ 2024-12-1 ┆ [\"2011-0 │\n",
       "│ 上长下_阴 ┆           ┆           ┆           ┆   ┆           ┆           ┆ 8         ┆ 1-18\",   │\n",
       "│ 中长上短  ┆           ┆           ┆           ┆   ┆           ┆           ┆           ┆ \"2011-12 │\n",
       "│ 下_阴大长 ┆           ┆           ┆           ┆   ┆           ┆           ┆           ┆ -05\", …… │\n",
       "│ 上短下    ┆           ┆           ┆           ┆   ┆           ┆           ┆           ┆          │\n",
       "│ 缩阴大短  ┆ 0.238334  ┆ 1.004837  ┆ 0.225068  ┆ … ┆ 236       ┆ 11        ┆ 2024-12-3 ┆ [\"2011-0 │\n",
       "│ 上长下_阴 ┆           ┆           ┆           ┆   ┆           ┆           ┆ 1         ┆ 1-25\",   │\n",
       "│ 中长上短  ┆           ┆           ┆           ┆   ┆           ┆           ┆           ┆ \"2011-06 │\n",
       "│ 下_阴大长 ┆           ┆           ┆           ┆   ┆           ┆           ┆           ┆ -17\", …… │\n",
       "│ 上短下    ┆           ┆           ┆           ┆   ┆           ┆           ┆           ┆          │\n",
       "│ 缩阴小短  ┆ 0.276588  ┆ 0.91244   ┆ 0.270276  ┆ … ┆ 193       ┆ 14        ┆ 2024-08-2 ┆ [\"2013-1 │\n",
       "│ 上短下_阴 ┆           ┆           ┆           ┆   ┆           ┆           ┆ 0         ┆ 1-08\",   │\n",
       "│ 小短上短  ┆           ┆           ┆           ┆   ┆           ┆           ┆           ┆ \"2013-12 │\n",
       "│ 下_阴大短 ┆           ┆           ┆           ┆   ┆           ┆           ┆           ┆ -20\", …… │\n",
       "│ 上短下    ┆           ┆           ┆           ┆   ┆           ┆           ┆           ┆          │\n",
       "│ 缩阴大短  ┆ 0.236767  ┆ 0.818255  ┆ 0.280502  ┆ … ┆ 247       ┆ 13        ┆ 2024-10-1 ┆ [\"2011-0 │\n",
       "│ 上长下_阴 ┆           ┆           ┆           ┆   ┆           ┆           ┆ 6         ┆ 8-01\",   │\n",
       "│ 大短上短  ┆           ┆           ┆           ┆   ┆           ┆           ┆           ┆ \"2011-12 │\n",
       "│ 下_阳小长 ┆           ┆           ┆           ┆   ┆           ┆           ┆           ┆ -12\", …… │\n",
       "│ 上短下    ┆           ┆           ┆           ┆   ┆           ┆           ┆           ┆          │\n",
       "└───────────┴───────────┴───────────┴───────────┴───┴───────────┴───────────┴───────────┴──────────┘"
      ]
     },
     "execution_count": 51,
     "metadata": {},
     "output_type": "execute_result"
    }
   ],
   "source": [
    "target.sort('RankIC')"
   ]
  },
  {
   "cell_type": "code",
   "execution_count": null,
   "metadata": {},
   "outputs": [],
   "source": [
    "target.write_parquet('csp_mom.parquet')"
   ]
  },
  {
   "cell_type": "code",
   "execution_count": 117,
   "metadata": {},
   "outputs": [
    {
     "data": {
      "text/html": [
       "<div>\n",
       "<style scoped>\n",
       "    .dataframe tbody tr th:only-of-type {\n",
       "        vertical-align: middle;\n",
       "    }\n",
       "\n",
       "    .dataframe tbody tr th {\n",
       "        vertical-align: top;\n",
       "    }\n",
       "\n",
       "    .dataframe thead th {\n",
       "        text-align: right;\n",
       "    }\n",
       "</style>\n",
       "<table border=\"1\" class=\"dataframe\">\n",
       "  <thead>\n",
       "    <tr style=\"text-align: right;\">\n",
       "      <th></th>\n",
       "      <th>pattern</th>\n",
       "      <th>IC</th>\n",
       "      <th>ICIR</th>\n",
       "      <th>RankIC</th>\n",
       "      <th>RankICIR</th>\n",
       "      <th>num_count</th>\n",
       "      <th>date_count</th>\n",
       "      <th>last_date</th>\n",
       "      <th>date_list</th>\n",
       "    </tr>\n",
       "  </thead>\n",
       "  <tbody>\n",
       "    <tr>\n",
       "      <th>0</th>\n",
       "      <td>缩阳中短上短下_阴小长上短下_阴中短上短下</td>\n",
       "      <td>-0.197083</td>\n",
       "      <td>-0.723026</td>\n",
       "      <td>-0.129123</td>\n",
       "      <td>-0.360028</td>\n",
       "      <td>179</td>\n",
       "      <td>12</td>\n",
       "      <td>2024-12-16</td>\n",
       "      <td>[2012-05-10, 2013-02-22, 2013-03-27, 2017-02-1...</td>\n",
       "    </tr>\n",
       "    <tr>\n",
       "      <th>1</th>\n",
       "      <td>缩阴小短上长下_阴小短上短下_阳小短上短下</td>\n",
       "      <td>-0.122039</td>\n",
       "      <td>-0.476782</td>\n",
       "      <td>-0.102250</td>\n",
       "      <td>-0.517671</td>\n",
       "      <td>344</td>\n",
       "      <td>20</td>\n",
       "      <td>2024-03-20</td>\n",
       "      <td>[2012-06-15, 2012-11-23, 2016-05-25, 2016-08-0...</td>\n",
       "    </tr>\n",
       "    <tr>\n",
       "      <th>2</th>\n",
       "      <td>缩阳小短上短下_阳小短上短下_阴中短上短下</td>\n",
       "      <td>-0.111049</td>\n",
       "      <td>-0.492641</td>\n",
       "      <td>-0.173093</td>\n",
       "      <td>-0.656871</td>\n",
       "      <td>251</td>\n",
       "      <td>15</td>\n",
       "      <td>2024-03-22</td>\n",
       "      <td>[2012-11-08, 2012-11-26, 2016-08-11, 2016-09-2...</td>\n",
       "    </tr>\n",
       "    <tr>\n",
       "      <th>3</th>\n",
       "      <td>缩阳中短上短下_阴小短上短下_阳小短上短下</td>\n",
       "      <td>-0.106073</td>\n",
       "      <td>-0.315453</td>\n",
       "      <td>-0.119460</td>\n",
       "      <td>-0.347189</td>\n",
       "      <td>267</td>\n",
       "      <td>19</td>\n",
       "      <td>2024-03-20</td>\n",
       "      <td>[2013-02-20, 2014-08-08, 2016-08-12, 2016-12-2...</td>\n",
       "    </tr>\n",
       "    <tr>\n",
       "      <th>4</th>\n",
       "      <td>常阴大短上短下_阴中短上短下_阳小短上长下</td>\n",
       "      <td>-0.083874</td>\n",
       "      <td>-0.235436</td>\n",
       "      <td>0.028548</td>\n",
       "      <td>0.089302</td>\n",
       "      <td>169</td>\n",
       "      <td>12</td>\n",
       "      <td>2024-09-19</td>\n",
       "      <td>[2013-11-15, 2018-12-03, 2019-06-11, 2019-11-1...</td>\n",
       "    </tr>\n",
       "    <tr>\n",
       "      <th>...</th>\n",
       "      <td>...</td>\n",
       "      <td>...</td>\n",
       "      <td>...</td>\n",
       "      <td>...</td>\n",
       "      <td>...</td>\n",
       "      <td>...</td>\n",
       "      <td>...</td>\n",
       "      <td>...</td>\n",
       "      <td>...</td>\n",
       "    </tr>\n",
       "    <tr>\n",
       "      <th>1314</th>\n",
       "      <td>缩阴大长上长下_阴大长上长下_阳中长上长下</td>\n",
       "      <td>0.307251</td>\n",
       "      <td>0.916411</td>\n",
       "      <td>0.370480</td>\n",
       "      <td>1.582607</td>\n",
       "      <td>212</td>\n",
       "      <td>12</td>\n",
       "      <td>2024-11-29</td>\n",
       "      <td>[2014-03-04, 2015-08-03, 2015-08-04, 2015-08-0...</td>\n",
       "    </tr>\n",
       "    <tr>\n",
       "      <th>1315</th>\n",
       "      <td>缩阴大短上长下_阴中长上长下_阴大短上长下</td>\n",
       "      <td>0.315099</td>\n",
       "      <td>0.915652</td>\n",
       "      <td>0.286144</td>\n",
       "      <td>1.181263</td>\n",
       "      <td>523</td>\n",
       "      <td>24</td>\n",
       "      <td>2025-01-09</td>\n",
       "      <td>[2011-12-26, 2013-04-10, 2013-06-28, 2013-10-3...</td>\n",
       "    </tr>\n",
       "    <tr>\n",
       "      <th>1316</th>\n",
       "      <td>缩阳中长上长下_阴大长上短下_阴大长上长下</td>\n",
       "      <td>0.333767</td>\n",
       "      <td>1.265744</td>\n",
       "      <td>0.227530</td>\n",
       "      <td>0.865894</td>\n",
       "      <td>466</td>\n",
       "      <td>19</td>\n",
       "      <td>2024-11-27</td>\n",
       "      <td>[2013-06-21, 2015-06-17, 2015-06-23, 2015-07-2...</td>\n",
       "    </tr>\n",
       "    <tr>\n",
       "      <th>1317</th>\n",
       "      <td>缩阴大长上长下_阴中长上长下_阴大长上长下</td>\n",
       "      <td>0.335099</td>\n",
       "      <td>1.129898</td>\n",
       "      <td>0.287800</td>\n",
       "      <td>1.225910</td>\n",
       "      <td>298</td>\n",
       "      <td>15</td>\n",
       "      <td>2022-03-18</td>\n",
       "      <td>[2011-12-26, 2015-04-17, 2015-05-04, 2015-06-2...</td>\n",
       "    </tr>\n",
       "    <tr>\n",
       "      <th>1318</th>\n",
       "      <td>缩阳大短上短下_阳中长上长下_阳大长上短下</td>\n",
       "      <td>0.384022</td>\n",
       "      <td>1.487197</td>\n",
       "      <td>0.296828</td>\n",
       "      <td>1.264546</td>\n",
       "      <td>295</td>\n",
       "      <td>12</td>\n",
       "      <td>2024-11-13</td>\n",
       "      <td>[2011-08-17, 2015-08-12, 2016-02-15, 2018-06-2...</td>\n",
       "    </tr>\n",
       "  </tbody>\n",
       "</table>\n",
       "<p>1319 rows × 9 columns</p>\n",
       "</div>"
      ],
      "text/plain": [
       "                    pattern        IC      ICIR    RankIC  RankICIR  \\\n",
       "0     缩阳中短上短下_阴小长上短下_阴中短上短下 -0.197083 -0.723026 -0.129123 -0.360028   \n",
       "1     缩阴小短上长下_阴小短上短下_阳小短上短下 -0.122039 -0.476782 -0.102250 -0.517671   \n",
       "2     缩阳小短上短下_阳小短上短下_阴中短上短下 -0.111049 -0.492641 -0.173093 -0.656871   \n",
       "3     缩阳中短上短下_阴小短上短下_阳小短上短下 -0.106073 -0.315453 -0.119460 -0.347189   \n",
       "4     常阴大短上短下_阴中短上短下_阳小短上长下 -0.083874 -0.235436  0.028548  0.089302   \n",
       "...                     ...       ...       ...       ...       ...   \n",
       "1314  缩阴大长上长下_阴大长上长下_阳中长上长下  0.307251  0.916411  0.370480  1.582607   \n",
       "1315  缩阴大短上长下_阴中长上长下_阴大短上长下  0.315099  0.915652  0.286144  1.181263   \n",
       "1316  缩阳中长上长下_阴大长上短下_阴大长上长下  0.333767  1.265744  0.227530  0.865894   \n",
       "1317  缩阴大长上长下_阴中长上长下_阴大长上长下  0.335099  1.129898  0.287800  1.225910   \n",
       "1318  缩阳大短上短下_阳中长上长下_阳大长上短下  0.384022  1.487197  0.296828  1.264546   \n",
       "\n",
       "      num_count  date_count   last_date  \\\n",
       "0           179          12  2024-12-16   \n",
       "1           344          20  2024-03-20   \n",
       "2           251          15  2024-03-22   \n",
       "3           267          19  2024-03-20   \n",
       "4           169          12  2024-09-19   \n",
       "...         ...         ...         ...   \n",
       "1314        212          12  2024-11-29   \n",
       "1315        523          24  2025-01-09   \n",
       "1316        466          19  2024-11-27   \n",
       "1317        298          15  2022-03-18   \n",
       "1318        295          12  2024-11-13   \n",
       "\n",
       "                                              date_list  \n",
       "0     [2012-05-10, 2013-02-22, 2013-03-27, 2017-02-1...  \n",
       "1     [2012-06-15, 2012-11-23, 2016-05-25, 2016-08-0...  \n",
       "2     [2012-11-08, 2012-11-26, 2016-08-11, 2016-09-2...  \n",
       "3     [2013-02-20, 2014-08-08, 2016-08-12, 2016-12-2...  \n",
       "4     [2013-11-15, 2018-12-03, 2019-06-11, 2019-11-1...  \n",
       "...                                                 ...  \n",
       "1314  [2014-03-04, 2015-08-03, 2015-08-04, 2015-08-0...  \n",
       "1315  [2011-12-26, 2013-04-10, 2013-06-28, 2013-10-3...  \n",
       "1316  [2013-06-21, 2015-06-17, 2015-06-23, 2015-07-2...  \n",
       "1317  [2011-12-26, 2015-04-17, 2015-05-04, 2015-06-2...  \n",
       "1318  [2011-08-17, 2015-08-12, 2016-02-15, 2018-06-2...  \n",
       "\n",
       "[1319 rows x 9 columns]"
      ]
     },
     "execution_count": 117,
     "metadata": {},
     "output_type": "execute_result"
    }
   ],
   "source": [
    "pd.read_parquet('csp_mom.parquet')"
   ]
  },
  {
   "cell_type": "markdown",
   "metadata": {},
   "source": [
    "缩阳中短上短下_阴小长上短下_阴中短上短下\n",
    "缩阳大短上短下_阳中长上长下_阳大长上短下"
   ]
  },
  {
   "cell_type": "code",
   "execution_count": 22,
   "metadata": {},
   "outputs": [],
   "source": [
    "# a = df_k_line.group_by(['pattern', 'date']).agg(\n",
    "#                 pl.len().alias('count'),\n",
    "#                 pl.sum('future20_return').alias('sum'),\n",
    "#                 (pl.col('future20_return') ** 2).sum().alias('sumsq')\n",
    "#             ).sort(\"date\", descending=False).with_columns(\n",
    "#                 pl.col('count').shift(lag_days).over('pattern'),\n",
    "#                 pl.col('sum').shift(lag_days).over('pattern'),\n",
    "#                 pl.col('sumsq').shift(lag_days).over('pattern')\n",
    "#             )\n",
    "# a"
   ]
  },
  {
   "cell_type": "code",
   "execution_count": 23,
   "metadata": {},
   "outputs": [],
   "source": [
    "  #138_253_962"
   ]
  },
  {
   "cell_type": "code",
   "execution_count": 24,
   "metadata": {},
   "outputs": [],
   "source": [
    "def calculate_ir_metrics(df_k_line, lag_days, n_days, min_samples):\n",
    "        q = (\n",
    "            df_k_line.lazy().group_by(['pattern', 'date']).agg(\n",
    "                pl.len().alias('count'),\n",
    "                pl.sum('future20_return').alias('sum'),\n",
    "                (pl.col('future20_return') ** 2).sum().alias('sumsq')\n",
    "            )\n",
    "            .sort(\"date\", descending=False)\n",
    "            )\n",
    "        date = df_k_line.select('date').unique().sort('date')\n",
    "        pattern = df_k_line.select('pattern').unique().sort('pattern')\n",
    "        ir_all = pattern.join(date, how=\"cross\").lazy()\n",
    "\n",
    "        q = ir_all.join(q, on=[\"pattern\", \"date\"], how=\"left\").fill_null(0)\n",
    "        q = q.with_columns(\n",
    "                pl.col('count').shift(lag_days).over('pattern'),\n",
    "                pl.col('sum').shift(lag_days).over('pattern'),\n",
    "                pl.col('sumsq').shift(lag_days).over('pattern')\n",
    "        )#.drop_nulls(subset=['count'])\n",
    "        \n",
    "        q = q.with_columns(\n",
    "            rolling_sum=pl.col('sum').rolling_sum(window_size=n_days, min_periods=1),\n",
    "            rolling_count=pl.col('count').rolling_sum(window_size=n_days, min_periods=1),\n",
    "            rolling_sumsq=pl.col('sumsq').rolling_sum(window_size=n_days, min_periods=1)\n",
    "        ).sort('date', descending=False)\n",
    "        \n",
    "        q = q.with_columns(\n",
    "            ir=pl.col('rolling_sum') / pl.col('rolling_count') /\n",
    "            ((pl.col('rolling_sumsq') / pl.col('rolling_count') - pl.col('rolling_sum') / pl.col('rolling_count') ** 2) ** 0.5)\n",
    "        )\n",
    "        \n",
    "        q = q.with_columns(\n",
    "            pl.when(pl.col('rolling_count') <= min_samples).then(None).otherwise(pl.col('ir')).alias('ir')\n",
    "        ).select(['date', 'pattern', 'ir']).sort(['date',], descending=False)\n",
    "\n",
    "        return q.collect()\n",
    "# ir = calculate_ir_metrics(df_k_line, lag_days, n_days, min_samples)\n",
    "# ir"
   ]
  },
  {
   "cell_type": "code",
   "execution_count": 25,
   "metadata": {},
   "outputs": [],
   "source": [
    "# ir.filter(pl.col('ir').is_not_null())"
   ]
  },
  {
   "cell_type": "code",
   "execution_count": 26,
   "metadata": {},
   "outputs": [],
   "source": [
    "# ir.select([pl.col(col).is_null().sum().alias(col) for col in ir.columns])"
   ]
  },
  {
   "cell_type": "code",
   "execution_count": 27,
   "metadata": {},
   "outputs": [],
   "source": [
    "# merged_df = ir.join(\n",
    "#     df_k_line.select(['date','pattern','code']),\n",
    "#     on=[\"date\", \"pattern\"],\n",
    "#     how=\"inner\"\n",
    "# )#.select( \"date\", \"code\",\"ir\")\n",
    "# merged_df = merged_df.with_columns(\n",
    "#     pl.col('ir').rolling_mean(20, min_periods=5).over('code').alias(f'factor_{5}') \n",
    "# ).drop_nulls(subset=[f'factor_{5}']).sort('date', descending=False)\n",
    "# merged_df"
   ]
  },
  {
   "cell_type": "code",
   "execution_count": 28,
   "metadata": {},
   "outputs": [],
   "source": [
    "# merged_df.sort('code')[10:20]"
   ]
  },
  {
   "cell_type": "code",
   "execution_count": 29,
   "metadata": {},
   "outputs": [],
   "source": [
    "def calculate_csp_factor(i):\n",
    "    start_time = time.time()\n",
    "    ##第一步，聚合k线\n",
    "    df_k_line = aggregate_k_lines(df_price,i)\n",
    "    print(f\"aggregate_k_lines 耗时: {time.time() - start_time:.2f}秒\")\n",
    "    ## 第二步，打上标签\n",
    "    df_k_line = calculate_price_indicators(df_k_line)\n",
    "    ## 第三步，计算pattern的聚合指标\n",
    "    \n",
    "\n",
    "    ir = calculate_ir_metrics(df_k_line, lag_days, n_days, min_samples)\n",
    "    merged_df = ir.join(\n",
    "        df_k_line.select(['date','pattern','code']),\n",
    "        on=[\"date\", \"pattern\"],\n",
    "        how=\"inner\"\n",
    "    ).select( \"date\", \"code\",\"ir\")\n",
    "    merged_df = merged_df.with_columns(\n",
    "        pl.col('ir').rolling_mean(20, min_periods=5).over('code').alias(f'factor_{i}') \n",
    "    ).drop_nulls(subset=[f'factor_{i}']).sort('date', descending=False)\n",
    "\n",
    "\n",
    "    return merged_df.select(\"date\", \"code\", f'factor_{i}')\n"
   ]
  },
  {
   "cell_type": "code",
   "execution_count": 30,
   "metadata": {},
   "outputs": [],
   "source": [
    "def calculate_new_factor(i):\n",
    "    start_time = time.time()\n",
    "    ##第一步，聚合k线\n",
    "    df_k_line = aggregate_k_lines(df_price,i)\n",
    "    print(f\"aggregate_k_lines 耗时: {time.time() - start_time:.2f}秒\")\n",
    "    ## 第二步，打上标签\n",
    "    df_k_line = calculate_price_indicators(df_k_line)\n",
    "    ## 第三步，计算pattern的聚合指标\n",
    "    \n",
    "\n",
    "    ir = calculate_ir_metrics(df_k_line, 0, n_days, min_samples)\n",
    "    merged_df = ir.join(\n",
    "        df_k_line.select(['date','pattern','code']),\n",
    "        on=[\"date\", \"pattern\"],\n",
    "        how=\"inner\"\n",
    "    ).select( \"date\", \"code\",\"ir\")\n",
    "    merged_df = merged_df.with_columns(\n",
    "        pl.col('ir').rolling_mean(20, min_periods=5).over('code').alias(f'factor_{i}') \n",
    "    ).drop_nulls(subset=[f'factor_{i}']).sort('date', descending=False)\n",
    "\n",
    "\n",
    "    return merged_df.select(\"date\", \"code\", f'factor_{i}')\n"
   ]
  },
  {
   "cell_type": "code",
   "execution_count": 31,
   "metadata": {},
   "outputs": [],
   "source": [
    "# null_counts = merged_df.select([pl.col(col).is_null().sum().alias(col) for col in merged_df.columns])\n",
    "\n",
    "# null_counts"
   ]
  },
  {
   "cell_type": "code",
   "execution_count": 32,
   "metadata": {},
   "outputs": [],
   "source": [
    "# df.join(\n",
    "#     df_k_line.select(['date','pattern','code']),\n",
    "#     on=[\"date\", \"pattern\"],\n",
    "#     how=\"outer\"\n",
    "# )"
   ]
  },
  {
   "cell_type": "markdown",
   "metadata": {},
   "source": [
    "## 批量计算"
   ]
  },
  {
   "cell_type": "code",
   "execution_count": 33,
   "metadata": {},
   "outputs": [
    {
     "name": "stdout",
     "output_type": "stream",
     "text": [
      "aggregate_k_lines 耗时: 1.08秒\n",
      "Completed i=1,耗时: 35.15秒\n",
      "aggregate_k_lines 耗时: 1.39秒\n",
      "Completed i=2,耗时: 31.43秒\n",
      "aggregate_k_lines 耗时: 1.24秒\n",
      "Completed i=3,耗时: 29.63秒\n",
      "aggregate_k_lines 耗时: 1.04秒\n",
      "Completed i=4,耗时: 29.58秒\n",
      "aggregate_k_lines 耗时: 1.00秒\n",
      "Completed i=5,耗时: 28.25秒\n",
      "aggregate_k_lines 耗时: 1.05秒\n",
      "Completed i=6,耗时: 28.49秒\n",
      "aggregate_k_lines 耗时: 1.03秒\n",
      "Completed i=7,耗时: 28.03秒\n",
      "aggregate_k_lines 耗时: 1.04秒\n",
      "Completed i=8,耗时: 27.23秒\n",
      "aggregate_k_lines 耗时: 0.94秒\n",
      "Completed i=9,耗时: 25.78秒\n",
      "aggregate_k_lines 耗时: 0.99秒\n",
      "Completed i=10,耗时: 25.51秒\n"
     ]
    },
    {
     "data": {
      "text/html": [
       "<div><style>\n",
       ".dataframe > thead > tr,\n",
       ".dataframe > tbody > tr {\n",
       "  text-align: right;\n",
       "  white-space: pre-wrap;\n",
       "}\n",
       "</style>\n",
       "<small>shape: (12_148_457, 12)</small><table border=\"1\" class=\"dataframe\"><thead><tr><th>date</th><th>code</th><th>factor_1</th><th>factor_2</th><th>factor_3</th><th>factor_4</th><th>factor_5</th><th>factor_6</th><th>factor_7</th><th>factor_8</th><th>factor_9</th><th>factor_10</th></tr><tr><td>str</td><td>cat</td><td>f64</td><td>f64</td><td>f64</td><td>f64</td><td>f64</td><td>f64</td><td>f64</td><td>f64</td><td>f64</td><td>f64</td></tr></thead><tbody><tr><td>&quot;2018-01-29&quot;</td><td>&quot;300097.SZ&quot;</td><td>0.217092</td><td>0.217499</td><td>0.234387</td><td>0.246604</td><td>0.268156</td><td>0.257111</td><td>0.222683</td><td>0.212859</td><td>0.177128</td><td>0.163421</td></tr><tr><td>&quot;2022-11-02&quot;</td><td>&quot;688358.SH&quot;</td><td>0.064537</td><td>-0.031687</td><td>-0.013892</td><td>-0.001166</td><td>-0.041755</td><td>-0.027034</td><td>-0.00591</td><td>0.01759</td><td>0.012802</td><td>0.016141</td></tr><tr><td>&quot;2024-03-28&quot;</td><td>&quot;873132.BJ&quot;</td><td>-0.006153</td><td>0.033767</td><td>0.017809</td><td>0.01894</td><td>0.02231</td><td>0.013366</td><td>0.019009</td><td>0.025862</td><td>0.023769</td><td>0.013928</td></tr><tr><td>&quot;2021-11-15&quot;</td><td>&quot;000978.SZ&quot;</td><td>0.167368</td><td>0.216943</td><td>0.202248</td><td>0.194482</td><td>0.177087</td><td>0.162011</td><td>0.171817</td><td>0.157894</td><td>0.195466</td><td>0.160468</td></tr><tr><td>&quot;2019-05-23&quot;</td><td>&quot;300448.SZ&quot;</td><td>0.221652</td><td>0.162924</td><td>0.16568</td><td>0.192428</td><td>0.210846</td><td>0.171733</td><td>0.167867</td><td>0.153652</td><td>0.169834</td><td>0.158218</td></tr><tr><td>&hellip;</td><td>&hellip;</td><td>&hellip;</td><td>&hellip;</td><td>&hellip;</td><td>&hellip;</td><td>&hellip;</td><td>&hellip;</td><td>&hellip;</td><td>&hellip;</td><td>&hellip;</td><td>&hellip;</td></tr><tr><td>&quot;2024-12-05&quot;</td><td>&quot;601068.SH&quot;</td><td>0.032325</td><td>0.074748</td><td>0.053557</td><td>0.014765</td><td>0.066498</td><td>0.018949</td><td>0.033021</td><td>0.031588</td><td>0.051241</td><td>0.036646</td></tr><tr><td>&quot;2016-02-17&quot;</td><td>&quot;002627.SZ&quot;</td><td>0.316595</td><td>0.223323</td><td>0.204957</td><td>0.190711</td><td>0.214378</td><td>0.214463</td><td>0.190005</td><td>0.209521</td><td>0.18289</td><td>0.218275</td></tr><tr><td>&quot;2024-01-22&quot;</td><td>&quot;601096.SH&quot;</td><td>null</td><td>null</td><td>null</td><td>null</td><td>null</td><td>null</td><td>null</td><td>null</td><td>null</td><td>null</td></tr><tr><td>&quot;2012-05-14&quot;</td><td>&quot;603000.SH&quot;</td><td>null</td><td>null</td><td>null</td><td>null</td><td>null</td><td>null</td><td>null</td><td>null</td><td>null</td><td>null</td></tr><tr><td>&quot;2022-06-07&quot;</td><td>&quot;300984.SZ&quot;</td><td>0.016412</td><td>0.016574</td><td>0.000616</td><td>-0.01415</td><td>-0.035754</td><td>0.009585</td><td>0.00885</td><td>0.004139</td><td>0.032464</td><td>0.010367</td></tr></tbody></table></div>"
      ],
      "text/plain": [
       "shape: (12_148_457, 12)\n",
       "┌────────────┬───────────┬───────────┬───────────┬───┬──────────┬──────────┬──────────┬───────────┐\n",
       "│ date       ┆ code      ┆ factor_1  ┆ factor_2  ┆ … ┆ factor_7 ┆ factor_8 ┆ factor_9 ┆ factor_10 │\n",
       "│ ---        ┆ ---       ┆ ---       ┆ ---       ┆   ┆ ---      ┆ ---      ┆ ---      ┆ ---       │\n",
       "│ str        ┆ cat       ┆ f64       ┆ f64       ┆   ┆ f64      ┆ f64      ┆ f64      ┆ f64       │\n",
       "╞════════════╪═══════════╪═══════════╪═══════════╪═══╪══════════╪══════════╪══════════╪═══════════╡\n",
       "│ 2018-01-29 ┆ 300097.SZ ┆ 0.217092  ┆ 0.217499  ┆ … ┆ 0.222683 ┆ 0.212859 ┆ 0.177128 ┆ 0.163421  │\n",
       "│ 2022-11-02 ┆ 688358.SH ┆ 0.064537  ┆ -0.031687 ┆ … ┆ -0.00591 ┆ 0.01759  ┆ 0.012802 ┆ 0.016141  │\n",
       "│ 2024-03-28 ┆ 873132.BJ ┆ -0.006153 ┆ 0.033767  ┆ … ┆ 0.019009 ┆ 0.025862 ┆ 0.023769 ┆ 0.013928  │\n",
       "│ 2021-11-15 ┆ 000978.SZ ┆ 0.167368  ┆ 0.216943  ┆ … ┆ 0.171817 ┆ 0.157894 ┆ 0.195466 ┆ 0.160468  │\n",
       "│ 2019-05-23 ┆ 300448.SZ ┆ 0.221652  ┆ 0.162924  ┆ … ┆ 0.167867 ┆ 0.153652 ┆ 0.169834 ┆ 0.158218  │\n",
       "│ …          ┆ …         ┆ …         ┆ …         ┆ … ┆ …        ┆ …        ┆ …        ┆ …         │\n",
       "│ 2024-12-05 ┆ 601068.SH ┆ 0.032325  ┆ 0.074748  ┆ … ┆ 0.033021 ┆ 0.031588 ┆ 0.051241 ┆ 0.036646  │\n",
       "│ 2016-02-17 ┆ 002627.SZ ┆ 0.316595  ┆ 0.223323  ┆ … ┆ 0.190005 ┆ 0.209521 ┆ 0.18289  ┆ 0.218275  │\n",
       "│ 2024-01-22 ┆ 601096.SH ┆ null      ┆ null      ┆ … ┆ null     ┆ null     ┆ null     ┆ null      │\n",
       "│ 2012-05-14 ┆ 603000.SH ┆ null      ┆ null      ┆ … ┆ null     ┆ null     ┆ null     ┆ null      │\n",
       "│ 2022-06-07 ┆ 300984.SZ ┆ 0.016412  ┆ 0.016574  ┆ … ┆ 0.00885  ┆ 0.004139 ┆ 0.032464 ┆ 0.010367  │\n",
       "└────────────┴───────────┴───────────┴───────────┴───┴──────────┴──────────┴──────────┴───────────┘"
      ]
     },
     "execution_count": 33,
     "metadata": {},
     "output_type": "execute_result"
    }
   ],
   "source": [
    "# 计算各周期的因子并合并\n",
    "df = pl.DataFrame(df_price[['date','code']].unique())\n",
    "\n",
    "\n",
    "for i in range(num1, num2):\n",
    "    start_time = time.time()\n",
    "    df_factor = calculate_csp_factor(i)\n",
    "    if df.is_empty():\n",
    "        df = df_factor\n",
    "    else:\n",
    "        df = df.join(df_factor, on=[\"date\", \"code\"], how=\"left\")\n",
    "    # print(df)\n",
    "    print(f\"Completed i={i},耗时: {time.time() - start_time:.2f}秒\")\n",
    "df"
   ]
  },
  {
   "cell_type": "code",
   "execution_count": 34,
   "metadata": {},
   "outputs": [
    {
     "data": {
      "text/html": [
       "<div><style>\n",
       ".dataframe > thead > tr,\n",
       ".dataframe > tbody > tr {\n",
       "  text-align: right;\n",
       "  white-space: pre-wrap;\n",
       "}\n",
       "</style>\n",
       "<small>shape: (1, 12)</small><table border=\"1\" class=\"dataframe\"><thead><tr><th>date</th><th>code</th><th>factor_1</th><th>factor_2</th><th>factor_3</th><th>factor_4</th><th>factor_5</th><th>factor_6</th><th>factor_7</th><th>factor_8</th><th>factor_9</th><th>factor_10</th></tr><tr><td>u32</td><td>u32</td><td>u32</td><td>u32</td><td>u32</td><td>u32</td><td>u32</td><td>u32</td><td>u32</td><td>u32</td><td>u32</td><td>u32</td></tr></thead><tbody><tr><td>0</td><td>0</td><td>159873</td><td>136713</td><td>135481</td><td>134984</td><td>134241</td><td>133741</td><td>133536</td><td>133504</td><td>133051</td><td>132878</td></tr></tbody></table></div>"
      ],
      "text/plain": [
       "shape: (1, 12)\n",
       "┌──────┬──────┬──────────┬──────────┬───┬──────────┬──────────┬──────────┬───────────┐\n",
       "│ date ┆ code ┆ factor_1 ┆ factor_2 ┆ … ┆ factor_7 ┆ factor_8 ┆ factor_9 ┆ factor_10 │\n",
       "│ ---  ┆ ---  ┆ ---      ┆ ---      ┆   ┆ ---      ┆ ---      ┆ ---      ┆ ---       │\n",
       "│ u32  ┆ u32  ┆ u32      ┆ u32      ┆   ┆ u32      ┆ u32      ┆ u32      ┆ u32       │\n",
       "╞══════╪══════╪══════════╪══════════╪═══╪══════════╪══════════╪══════════╪═══════════╡\n",
       "│ 0    ┆ 0    ┆ 159873   ┆ 136713   ┆ … ┆ 133536   ┆ 133504   ┆ 133051   ┆ 132878    │\n",
       "└──────┴──────┴──────────┴──────────┴───┴──────────┴──────────┴──────────┴───────────┘"
      ]
     },
     "execution_count": 34,
     "metadata": {},
     "output_type": "execute_result"
    }
   ],
   "source": [
    "null_counts = df.select([pl.col(col).is_null().sum().alias(col) for col in df.columns])\n",
    "\n",
    "null_counts"
   ]
  },
  {
   "cell_type": "code",
   "execution_count": 35,
   "metadata": {},
   "outputs": [
    {
     "data": {
      "text/html": [
       "<div><style>\n",
       ".dataframe > thead > tr,\n",
       ".dataframe > tbody > tr {\n",
       "  text-align: right;\n",
       "  white-space: pre-wrap;\n",
       "}\n",
       "</style>\n",
       "<small>shape: (12_148_457, 12)</small><table border=\"1\" class=\"dataframe\"><thead><tr><th>date</th><th>code</th><th>factor_1</th><th>factor_2</th><th>factor_3</th><th>factor_4</th><th>factor_5</th><th>factor_6</th><th>factor_7</th><th>factor_8</th><th>factor_9</th><th>factor_10</th></tr><tr><td>str</td><td>cat</td><td>f64</td><td>f64</td><td>f64</td><td>f64</td><td>f64</td><td>f64</td><td>f64</td><td>f64</td><td>f64</td><td>f64</td></tr></thead><tbody><tr><td>&quot;2018-01-29&quot;</td><td>&quot;300097.SZ&quot;</td><td>0.217092</td><td>0.217499</td><td>0.234387</td><td>0.246604</td><td>0.268156</td><td>0.257111</td><td>0.222683</td><td>0.212859</td><td>0.177128</td><td>0.163421</td></tr><tr><td>&quot;2022-11-02&quot;</td><td>&quot;688358.SH&quot;</td><td>0.064537</td><td>-0.031687</td><td>-0.013892</td><td>-0.001166</td><td>-0.041755</td><td>-0.027034</td><td>-0.00591</td><td>0.01759</td><td>0.012802</td><td>0.016141</td></tr><tr><td>&quot;2024-03-28&quot;</td><td>&quot;873132.BJ&quot;</td><td>-0.006153</td><td>0.033767</td><td>0.017809</td><td>0.01894</td><td>0.02231</td><td>0.013366</td><td>0.019009</td><td>0.025862</td><td>0.023769</td><td>0.013928</td></tr><tr><td>&quot;2021-11-15&quot;</td><td>&quot;000978.SZ&quot;</td><td>0.167368</td><td>0.216943</td><td>0.202248</td><td>0.194482</td><td>0.177087</td><td>0.162011</td><td>0.171817</td><td>0.157894</td><td>0.195466</td><td>0.160468</td></tr><tr><td>&quot;2019-05-23&quot;</td><td>&quot;300448.SZ&quot;</td><td>0.221652</td><td>0.162924</td><td>0.16568</td><td>0.192428</td><td>0.210846</td><td>0.171733</td><td>0.167867</td><td>0.153652</td><td>0.169834</td><td>0.158218</td></tr><tr><td>&hellip;</td><td>&hellip;</td><td>&hellip;</td><td>&hellip;</td><td>&hellip;</td><td>&hellip;</td><td>&hellip;</td><td>&hellip;</td><td>&hellip;</td><td>&hellip;</td><td>&hellip;</td><td>&hellip;</td></tr><tr><td>&quot;2024-12-05&quot;</td><td>&quot;601068.SH&quot;</td><td>0.032325</td><td>0.074748</td><td>0.053557</td><td>0.014765</td><td>0.066498</td><td>0.018949</td><td>0.033021</td><td>0.031588</td><td>0.051241</td><td>0.036646</td></tr><tr><td>&quot;2016-02-17&quot;</td><td>&quot;002627.SZ&quot;</td><td>0.316595</td><td>0.223323</td><td>0.204957</td><td>0.190711</td><td>0.214378</td><td>0.214463</td><td>0.190005</td><td>0.209521</td><td>0.18289</td><td>0.218275</td></tr><tr><td>&quot;2024-01-22&quot;</td><td>&quot;601096.SH&quot;</td><td>0.0</td><td>0.0</td><td>0.0</td><td>0.0</td><td>0.0</td><td>0.0</td><td>0.0</td><td>0.0</td><td>0.0</td><td>0.0</td></tr><tr><td>&quot;2012-05-14&quot;</td><td>&quot;603000.SH&quot;</td><td>0.0</td><td>0.0</td><td>0.0</td><td>0.0</td><td>0.0</td><td>0.0</td><td>0.0</td><td>0.0</td><td>0.0</td><td>0.0</td></tr><tr><td>&quot;2022-06-07&quot;</td><td>&quot;300984.SZ&quot;</td><td>0.016412</td><td>0.016574</td><td>0.000616</td><td>-0.01415</td><td>-0.035754</td><td>0.009585</td><td>0.00885</td><td>0.004139</td><td>0.032464</td><td>0.010367</td></tr></tbody></table></div>"
      ],
      "text/plain": [
       "shape: (12_148_457, 12)\n",
       "┌────────────┬───────────┬───────────┬───────────┬───┬──────────┬──────────┬──────────┬───────────┐\n",
       "│ date       ┆ code      ┆ factor_1  ┆ factor_2  ┆ … ┆ factor_7 ┆ factor_8 ┆ factor_9 ┆ factor_10 │\n",
       "│ ---        ┆ ---       ┆ ---       ┆ ---       ┆   ┆ ---      ┆ ---      ┆ ---      ┆ ---       │\n",
       "│ str        ┆ cat       ┆ f64       ┆ f64       ┆   ┆ f64      ┆ f64      ┆ f64      ┆ f64       │\n",
       "╞════════════╪═══════════╪═══════════╪═══════════╪═══╪══════════╪══════════╪══════════╪═══════════╡\n",
       "│ 2018-01-29 ┆ 300097.SZ ┆ 0.217092  ┆ 0.217499  ┆ … ┆ 0.222683 ┆ 0.212859 ┆ 0.177128 ┆ 0.163421  │\n",
       "│ 2022-11-02 ┆ 688358.SH ┆ 0.064537  ┆ -0.031687 ┆ … ┆ -0.00591 ┆ 0.01759  ┆ 0.012802 ┆ 0.016141  │\n",
       "│ 2024-03-28 ┆ 873132.BJ ┆ -0.006153 ┆ 0.033767  ┆ … ┆ 0.019009 ┆ 0.025862 ┆ 0.023769 ┆ 0.013928  │\n",
       "│ 2021-11-15 ┆ 000978.SZ ┆ 0.167368  ┆ 0.216943  ┆ … ┆ 0.171817 ┆ 0.157894 ┆ 0.195466 ┆ 0.160468  │\n",
       "│ 2019-05-23 ┆ 300448.SZ ┆ 0.221652  ┆ 0.162924  ┆ … ┆ 0.167867 ┆ 0.153652 ┆ 0.169834 ┆ 0.158218  │\n",
       "│ …          ┆ …         ┆ …         ┆ …         ┆ … ┆ …        ┆ …        ┆ …        ┆ …         │\n",
       "│ 2024-12-05 ┆ 601068.SH ┆ 0.032325  ┆ 0.074748  ┆ … ┆ 0.033021 ┆ 0.031588 ┆ 0.051241 ┆ 0.036646  │\n",
       "│ 2016-02-17 ┆ 002627.SZ ┆ 0.316595  ┆ 0.223323  ┆ … ┆ 0.190005 ┆ 0.209521 ┆ 0.18289  ┆ 0.218275  │\n",
       "│ 2024-01-22 ┆ 601096.SH ┆ 0.0       ┆ 0.0       ┆ … ┆ 0.0      ┆ 0.0      ┆ 0.0      ┆ 0.0       │\n",
       "│ 2012-05-14 ┆ 603000.SH ┆ 0.0       ┆ 0.0       ┆ … ┆ 0.0      ┆ 0.0      ┆ 0.0      ┆ 0.0       │\n",
       "│ 2022-06-07 ┆ 300984.SZ ┆ 0.016412  ┆ 0.016574  ┆ … ┆ 0.00885  ┆ 0.004139 ┆ 0.032464 ┆ 0.010367  │\n",
       "└────────────┴───────────┴───────────┴───────────┴───┴──────────┴──────────┴──────────┴───────────┘"
      ]
     },
     "execution_count": 35,
     "metadata": {},
     "output_type": "execute_result"
    }
   ],
   "source": [
    "df_filled = df.fill_null(0)\n",
    "# df_filled = df.fill_nan(0)\n",
    "df_filled"
   ]
  },
  {
   "cell_type": "code",
   "execution_count": 36,
   "metadata": {},
   "outputs": [
    {
     "data": {
      "text/html": [
       "<div><style>\n",
       ".dataframe > thead > tr,\n",
       ".dataframe > tbody > tr {\n",
       "  text-align: right;\n",
       "  white-space: pre-wrap;\n",
       "}\n",
       "</style>\n",
       "<small>shape: (1, 12)</small><table border=\"1\" class=\"dataframe\"><thead><tr><th>date</th><th>code</th><th>factor_1</th><th>factor_2</th><th>factor_3</th><th>factor_4</th><th>factor_5</th><th>factor_6</th><th>factor_7</th><th>factor_8</th><th>factor_9</th><th>factor_10</th></tr><tr><td>u32</td><td>u32</td><td>u32</td><td>u32</td><td>u32</td><td>u32</td><td>u32</td><td>u32</td><td>u32</td><td>u32</td><td>u32</td><td>u32</td></tr></thead><tbody><tr><td>0</td><td>0</td><td>0</td><td>0</td><td>0</td><td>0</td><td>0</td><td>0</td><td>0</td><td>0</td><td>0</td><td>0</td></tr></tbody></table></div>"
      ],
      "text/plain": [
       "shape: (1, 12)\n",
       "┌──────┬──────┬──────────┬──────────┬───┬──────────┬──────────┬──────────┬───────────┐\n",
       "│ date ┆ code ┆ factor_1 ┆ factor_2 ┆ … ┆ factor_7 ┆ factor_8 ┆ factor_9 ┆ factor_10 │\n",
       "│ ---  ┆ ---  ┆ ---      ┆ ---      ┆   ┆ ---      ┆ ---      ┆ ---      ┆ ---       │\n",
       "│ u32  ┆ u32  ┆ u32      ┆ u32      ┆   ┆ u32      ┆ u32      ┆ u32      ┆ u32       │\n",
       "╞══════╪══════╪══════════╪══════════╪═══╪══════════╪══════════╪══════════╪═══════════╡\n",
       "│ 0    ┆ 0    ┆ 0        ┆ 0        ┆ … ┆ 0        ┆ 0        ┆ 0        ┆ 0         │\n",
       "└──────┴──────┴──────────┴──────────┴───┴──────────┴──────────┴──────────┴───────────┘"
      ]
     },
     "execution_count": 36,
     "metadata": {},
     "output_type": "execute_result"
    }
   ],
   "source": [
    "null_counts = df_filled.select([pl.col(col).is_null().sum().alias(col) for col in df_filled.columns])\n",
    "\n",
    "null_counts"
   ]
  },
  {
   "cell_type": "code",
   "execution_count": null,
   "metadata": {},
   "outputs": [
    {
     "data": {
      "text/html": [
       "<div><style>\n",
       ".dataframe > thead > tr,\n",
       ".dataframe > tbody > tr {\n",
       "  text-align: right;\n",
       "  white-space: pre-wrap;\n",
       "}\n",
       "</style>\n",
       "<small>shape: (12_019_239, 3)</small><table border=\"1\" class=\"dataframe\"><thead><tr><th>date</th><th>code</th><th>factor</th></tr><tr><td>str</td><td>cat</td><td>f64</td></tr></thead><tbody><tr><td>&quot;2010-02-04&quot;</td><td>&quot;300019.SZ&quot;</td><td>-0.078637</td></tr><tr><td>&quot;2010-02-04&quot;</td><td>&quot;002062.SZ&quot;</td><td>-0.001427</td></tr><tr><td>&quot;2010-02-04&quot;</td><td>&quot;000582.SZ&quot;</td><td>0.025962</td></tr><tr><td>&quot;2010-02-04&quot;</td><td>&quot;000520.SZ&quot;</td><td>0.139519</td></tr><tr><td>&quot;2010-02-04&quot;</td><td>&quot;000421.SZ&quot;</td><td>0.19905</td></tr><tr><td>&hellip;</td><td>&hellip;</td><td>&hellip;</td></tr><tr><td>&quot;2025-02-13&quot;</td><td>&quot;002081.SZ&quot;</td><td>0.627637</td></tr><tr><td>&quot;2025-02-13&quot;</td><td>&quot;600796.SH&quot;</td><td>0.144479</td></tr><tr><td>&quot;2025-02-13&quot;</td><td>&quot;603058.SH&quot;</td><td>0.258738</td></tr><tr><td>&quot;2025-02-13&quot;</td><td>&quot;000869.SZ&quot;</td><td>1.000963</td></tr><tr><td>&quot;2025-02-13&quot;</td><td>&quot;002822.SZ&quot;</td><td>-0.202507</td></tr></tbody></table></div>"
      ],
      "text/plain": [
       "shape: (12_019_239, 3)\n",
       "┌────────────┬───────────┬───────────┐\n",
       "│ date       ┆ code      ┆ factor    │\n",
       "│ ---        ┆ ---       ┆ ---       │\n",
       "│ str        ┆ cat       ┆ f64       │\n",
       "╞════════════╪═══════════╪═══════════╡\n",
       "│ 2010-02-04 ┆ 300019.SZ ┆ -0.078637 │\n",
       "│ 2010-02-04 ┆ 002062.SZ ┆ -0.001427 │\n",
       "│ 2010-02-04 ┆ 000582.SZ ┆ 0.025962  │\n",
       "│ 2010-02-04 ┆ 000520.SZ ┆ 0.139519  │\n",
       "│ 2010-02-04 ┆ 000421.SZ ┆ 0.19905   │\n",
       "│ …          ┆ …         ┆ …         │\n",
       "│ 2025-02-13 ┆ 002081.SZ ┆ 0.627637  │\n",
       "│ 2025-02-13 ┆ 600796.SH ┆ 0.144479  │\n",
       "│ 2025-02-13 ┆ 603058.SH ┆ 0.258738  │\n",
       "│ 2025-02-13 ┆ 000869.SZ ┆ 1.000963  │\n",
       "│ 2025-02-13 ┆ 002822.SZ ┆ -0.202507 │\n",
       "└────────────┴───────────┴───────────┘"
      ]
     },
     "execution_count": 37,
     "metadata": {},
     "output_type": "execute_result"
    }
   ],
   "source": [
    "\n",
    "a = df_filled.with_columns(\n",
    "    factor = (pl.col(f'factor_1')+pl.col(f'factor_2')+pl.col(f'factor_3')+pl.col(f'factor_4')+pl.col(f'factor_5')+pl.col(f'factor_6')+pl.col(f'factor_7')+pl.col(f'factor_8')+pl.col(f'factor_9')+pl.col(f'factor_10'))/10\n",
    ").select(['date','code','factor']).filter(pl.col('factor') != 0).sort('date', descending=False)\n",
    "a"
   ]
  },
  {
   "cell_type": "code",
   "execution_count": 38,
   "metadata": {},
   "outputs": [
    {
     "data": {
      "text/html": [
       "<div><style>\n",
       ".dataframe > thead > tr,\n",
       ".dataframe > tbody > tr {\n",
       "  text-align: right;\n",
       "  white-space: pre-wrap;\n",
       "}\n",
       "</style>\n",
       "<small>shape: (1, 3)</small><table border=\"1\" class=\"dataframe\"><thead><tr><th>date</th><th>code</th><th>factor</th></tr><tr><td>u32</td><td>u32</td><td>u32</td></tr></thead><tbody><tr><td>0</td><td>0</td><td>0</td></tr></tbody></table></div>"
      ],
      "text/plain": [
       "shape: (1, 3)\n",
       "┌──────┬──────┬────────┐\n",
       "│ date ┆ code ┆ factor │\n",
       "│ ---  ┆ ---  ┆ ---    │\n",
       "│ u32  ┆ u32  ┆ u32    │\n",
       "╞══════╪══════╪════════╡\n",
       "│ 0    ┆ 0    ┆ 0      │\n",
       "└──────┴──────┴────────┘"
      ]
     },
     "execution_count": 38,
     "metadata": {},
     "output_type": "execute_result"
    }
   ],
   "source": [
    "null_counts = a.select([pl.col(col).is_null().sum().alias(col) for col in a.columns])\n",
    "\n",
    "null_counts"
   ]
  },
  {
   "cell_type": "code",
   "execution_count": 45,
   "metadata": {},
   "outputs": [
    {
     "data": {
      "text/html": [
       "<div><style>\n",
       ".dataframe > thead > tr,\n",
       ".dataframe > tbody > tr {\n",
       "  text-align: right;\n",
       "  white-space: pre-wrap;\n",
       "}\n",
       "</style>\n",
       "<small>shape: (1, 3)</small><table border=\"1\" class=\"dataframe\"><thead><tr><th>date</th><th>code</th><th>factor</th></tr><tr><td>str</td><td>cat</td><td>f64</td></tr></thead><tbody><tr><td>&quot;2025-02-13&quot;</td><td>&quot;000988.SZ&quot;</td><td>-0.090852</td></tr></tbody></table></div>"
      ],
      "text/plain": [
       "shape: (1, 3)\n",
       "┌────────────┬───────────┬───────────┐\n",
       "│ date       ┆ code      ┆ factor    │\n",
       "│ ---        ┆ ---       ┆ ---       │\n",
       "│ str        ┆ cat       ┆ f64       │\n",
       "╞════════════╪═══════════╪═══════════╡\n",
       "│ 2025-02-13 ┆ 000988.SZ ┆ -0.090852 │\n",
       "└────────────┴───────────┴───────────┘"
      ]
     },
     "execution_count": 45,
     "metadata": {},
     "output_type": "execute_result"
    }
   ],
   "source": [
    "a.filter((pl.col('date')=='2025-02-13')&(pl.col('code')=='000988.SZ'))"
   ]
  },
  {
   "cell_type": "code",
   "execution_count": 46,
   "metadata": {},
   "outputs": [
    {
     "name": "stdout",
     "output_type": "stream",
     "text": [
      "10.158290406375203\n"
     ]
    }
   ],
   "source": [
    "print(0.922901/0.090852)"
   ]
  },
  {
   "cell_type": "code",
   "execution_count": 39,
   "metadata": {},
   "outputs": [],
   "source": [
    "# a.write_csv('csp_composite.csv')"
   ]
  },
  {
   "cell_type": "code",
   "execution_count": 40,
   "metadata": {},
   "outputs": [],
   "source": [
    "# df.write_csv('csp_all.csv')"
   ]
  },
  {
   "cell_type": "code",
   "execution_count": 41,
   "metadata": {},
   "outputs": [],
   "source": [
    "# df.select(['date','code','factor_5']).sort(['date','code']).write_csv('csp_5.csv')"
   ]
  },
  {
   "cell_type": "code",
   "execution_count": null,
   "metadata": {},
   "outputs": [],
   "source": [
    "a.f"
   ]
  }
 ],
 "metadata": {
  "kernelspec": {
   "display_name": "base",
   "language": "python",
   "name": "python3"
  },
  "language_info": {
   "codemirror_mode": {
    "name": "ipython",
    "version": 3
   },
   "file_extension": ".py",
   "mimetype": "text/x-python",
   "name": "python",
   "nbconvert_exporter": "python",
   "pygments_lexer": "ipython3",
   "version": "3.12.4"
  }
 },
 "nbformat": 4,
 "nbformat_minor": 2
}
